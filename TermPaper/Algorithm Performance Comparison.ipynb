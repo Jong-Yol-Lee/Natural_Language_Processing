{
 "cells": [
  {
   "cell_type": "markdown",
   "metadata": {},
   "source": [
    "Lee, Jong Yol   BFA-Cinema 1  \n",
    "Group1 CS 5101  Natural Language Processing  "
   ]
  },
  {
   "cell_type": "markdown",
   "metadata": {},
   "source": [
    "# NLP algorithm comparison through food similarity comparison\n",
    "\n",
    "By performing cosine similarity analysis and clustering analysis using simple TF-IDF and NMF(Non-Negative Matric Factorization) among natural language processing algorithms, valid similarity analysis results can be obtained even with a simple algorithm.\n",
    "\n",
    "\n"
   ]
  },
  {
   "cell_type": "markdown",
   "metadata": {},
   "source": [
    "### Collecting Wiki Documents of Filipino and Korean Cuisine"
   ]
  },
  {
   "cell_type": "code",
   "execution_count": 1,
   "metadata": {},
   "outputs": [],
   "source": [
    "import wikipediaapi\n",
    "\n",
    "wiki_corpus = wikipediaapi.Wikipedia(\n",
    "    user_agent='Corpus(Cuisine)', \n",
    "    language='en',\n",
    "    extract_format=wikipediaapi.ExtractFormat.WIKI\n",
    "    )"
   ]
  },
  {
   "cell_type": "code",
   "execution_count": 2,
   "metadata": {},
   "outputs": [
    {
     "name": "stdout",
     "output_type": "stream",
     "text": [
      "Bulalo - Exists. len:879\n",
      "Pancit - Exists. len:11414\n",
      "Pinakbet - Exists. len:4656\n",
      "Puto_(food) - Exists. len:7617\n",
      "Tinola - Exists. len:1534\n",
      "Galbi-tang - Exists. len:1999\n",
      "Naengmyeon - Exists. len:4932\n",
      "kimchi - Exists. len:32299\n",
      "Tteokbokki - Exists. len:9155\n",
      "Samgye-tang - Exists. len:3402\n",
      "77887\n"
     ]
    }
   ],
   "source": [
    "# https://en.wikipedia.org/wiki/Filipino_cuisine\n",
    "pages = [#'Filipino_cuisine', \n",
    "        'Bulalo', 'Pancit', 'Pinakbet', 'Puto_(food)', 'Tinola',\n",
    "         #'Korean_cuisine',\n",
    "        'Galbi-tang', 'Naengmyeon', 'kimchi', 'Tteokbokki', 'Samgye-tang']\n",
    "cuisine_docs = []\n",
    "total_len = 0\n",
    "for p in pages:\n",
    "    p_wiki = wiki_corpus.page(p)\n",
    "    if p_wiki.exists():\n",
    "        print(f\"{p} - Exists. len:{len(p_wiki.text)}\")\n",
    "        cuisine_docs.append(p_wiki.text)\n",
    "        total_len += len(p_wiki.text)\n",
    "\n",
    "print(total_len)"
   ]
  },
  {
   "cell_type": "code",
   "execution_count": 3,
   "metadata": {},
   "outputs": [
    {
     "data": {
      "text/plain": [
       "['Bulalô (Tagalog: [bʊˈlɐlɔʔ]) is a beef dish from the Philippines. It is a light colored soup that is made by cooking beef shanks and bone marrow until the collagen and fat has been melted into the clear broth. It typically includes leafy vegetables (like pechay or cabbage), corn on the cob, scallions, onions, garlic, ginger, and fish sauce. Potatoes, carrots, or taro can also be added. It is commonly eaten on rice with soy sauce and calamansi on the side. Bulalo is native to the Southern Luzon region of the Philippines, particularly in the provinces of Batangas and Cavite.\\nSimilar dishes in other parts of the Philippines include the Western Visayan cansi which is soured with batuan fruit; the Waray dish pakdol; and the Cebuano dish pochero.\\n\\nSee also\\nLauya\\nNilaga\\nCansi\\nPhilippine cuisine\\n\\nExternal links\\n Media related to Bulalo at Wikimedia Commons\\n\\n\\n== References ==',\n",
       " 'Pancit (Tagalog pronunciation: [panˈsɪt] pan-SIT), also spelled pansít, is a general term referring to various traditional noodle dishes in Filipino cuisine. There are numerous types of pancit, often named based on the noodles used, method of cooking, place of origin, equal and constant diameter or the ingredients. Most pancit dishes are characteristically served with calamansi, which adds a citrusy flavor profile.\\nNoodles were introduced to the Philippines by Chinese immigrants over the centuries. They have been fully adopted and nativized into the local cuisine, even incorporating Spanish influences. There are numerous regional types of pancit throughout the Philippines, usually differing on the available indigenous ingredients of an area. Unique variants do not use noodles at all, but instead substitute it with strips of coconut, young papaya, mung bean sprouts, bamboo shoots, or seaweed.\\n\\nDescription\\nThe term pancit (or the standardized but less common pansít) is derived from either the Philippine Hokkien terms 扁食 (Pe̍h-ōe-jī: pán-si̍t/pián-si̍t; lit. \\'wonton (noodles)\\') or 便的食 (Pe̍h-ōe-jī: piân-ê-si̍t/pân-si̍t; lit. \\'convenient food\\'). In the Filipino language, pansít is the generic word for noodles. Different kinds of noodles can be found in Filipino supermarkets which can then be cooked at home. Noodle dishes are also standard fare in local restaurants, with establishments specializing in them called panciterias or pancitans.\\n\\nPancit has evolved in Filipino cuisine to combine both Chinese and Spanish techniques, as well as use local ingredients. Pancit is most commonly cooked by sautéing (guisado in Philippine Spanish) them with garlic, onions, vegetables (commonly carrots, green beans, cabbage, bell peppers, chayote, bottle gourd, patola, oyster mushrooms, and cauliflower, among others), and meat (including different kinds of Philippine longganisas) or seafood (including shrimp, fish, squid, crab, oysters, clams, and fish balls). Rarer ingredients include kamias, coconut milk, banana blossoms, mustard greens, okra, calabaza, tengang daga mushrooms, and shitake mushrooms. The ingredients of the sauce varies by recipe. These ingredients include soy sauce (or salt), vinegar, fish sauce (patis), bagoong alamang (shrimp paste), taba ng talangka (crab fat), oyster sauce, bugnay wine, fermented soy bean paste, and various sweet sauces (including inihaw sauces).\\nThey can also be cooked in a broth or braised. Almost all pancit dishes are also uniquely served with sliced halves of calamansi, meant to be squeezed over the noodles (at the consumer\\'s discretion) as the juice adds a tangy sourness. The most common other garnishings and condiments are flaked smoked fish (tinapa), fried garlic, crumbled pork cracklings (chicharon), labuyo chilis, shallots, ground black pepper, glutinous rice okoy, kinchay, peanuts, and sliced hard-boiled eggs. Some regions may also add sliced bilimbi fruits (kamias).\\nPancit dishes are generally named after the types of noodles used. The most commonly used noodles are canton (egg noodles, usually round), bihon (rice vermicelli), lomi (thick egg noodles), miki (soft yellow egg noodles, usually square in cross-section), misua or miswa (wheat vermicelli), palabok (yellow cornstarch noodles), sotanghon (glass noodles), and odong (yellow flour noodles). They can also be named after their method of cooking, their origin, and their main ingredients.\\n\\n\\tTypes of pancit noodles\\n\\t\\t\\n\\t\\t\\t\\n\\t\\t\\t\\n\\t\\t\\n\\t\\t\\n\\t\\t\\t\\n\\t\\t\\t\\n\\t\\t\\n\\t\\t\\n\\t\\t\\t\\n\\t\\t\\t\\n\\t\\t\\n\\t\\t\\n\\t\\t\\t\\n\\t\\t\\t\\n\\t\\t\\n\\t\\t\\n\\t\\t\\t\\n\\t\\t\\t\\n\\t\\t\\n\\t\\t\\n\\t\\t\\t\\n\\t\\t\\t\\n\\t\\t\\n\\nPancit is considered both an everyday staple and a comfort food. Pancit can be eaten alone, but they are also frequently eaten paired with white rice, bread (usually pandesal), and puto (steamed rice cakes). Pancit dishes are commonly served during gatherings, events festivals, and religious activities, due to the ease in which they can be cooked in large quantities. Pancit is also commonly served at birthday celebrations and Chinese restaurants nationwide often have \"birthday noodles\" listed on the menu, as the length of the noodles are believed to symbolize a long life. This belief originates from Chinese Filipino customs.\\n\\nPancit dishes\\nBatchoy – a noodle soup made with pork offal, crushed pork cracklings, chicken stock, beef loin and round noodles. Its origins can be traced to the district of La Paz, Iloilo City in the Philippines\\nMaki mi – thick pork tenderloin soup originating from the Chinese-Filipino community of Binondo, Manila.\\nPancit Abra – common in Northern Luzon, particularly in the province of Abra. A variant of Pancit Miki, in either soupy or fried version.\\nPancit alanganin – originated from Bocaue, Bulacan. It is made similarly to pancit canton but has a soupy broth with added milk.\\nPancit Bam-I – also known as Pancit Bisaya. A specialty originating in Cebu, with bihon (rice) and canton (wheat) noodles sautéed together.\\nPancit batchoy – Iloilo\\'s stir-fried version of batchoy.\\nPancit Bato – is local to the Bicol Region; especially the town of Bato in Camarines Sur. The noodles are slightly toasted while it\\'s still dry.\\nPancit bihon guisado – or simply pancit bihon (traditionally and historically also spelled as Spanish: bijon) is the type usually associated with the word \"pancit\", very thin rice noodles (rice vermicelli) fried with soy sauce some citrus, possibly with patís, and some variation of sliced meat and chopped vegetables. The exact bihon composition depends on someone\\'s personal recipe but usually, Chinese sausage and cabbage are the basic relish.\\nPancit Cabagan – served in Cabagan, Isabela and nearby towns. Stir-fried and served either dry with separate soup, or \"wet\" or soup and noodles combined.\\nPancit canton – Filipino adaptation of lo mein and chow mein. Either in instant or stir-fried versions. It is named after the type of noodle used.\\nPancit canton Ilonggo\\nPancit chami – from Lucena City, Quezon\\nPancit choca (or Pancit pusít) – a black pancit from Cavite made with squid ink and bihon.\\nPancit habhab – A Lucban, Quezon specialty. Served in banana leaves, eaten directly without utensils, the name is an onomatopoeia of eating it, like a pig snorts.\\nHi-bol – A noodle soup dish originating from the Ilocos Region that is similar to a mami, but the distinguishing specialty ingredient is tripe from livestock. The name reportedly comes from “high voltage”.\\nPancit kinalas – Naga City, Camarines Sur\\'s version of pancit, in soup or dried form. It consists of noodles garnished by scraped meat from pork or beef\\'s head and other parts, enhanced with a thick deep-brown sauce coming from the brains of a cow or pig. The dish is further flavored with spices (sili and pepper) and served in hot broth. Boiled egg added is optional.\\nPancit lanu – Found only along San Vicente Street in San Pedro, Laguna\\nPancit lomi – Originally from Batangas, pancit lomi is usually sold in eateries across the province. With the mobility of the Filipinos; however, other people got wind of pancit lomi and now different lomihán (eateries serving lomi), panciterias, and carinderias (eateries serving a wider variety of viands with rice) offer it.\\nPancit luglúg or Luglóg – a Kapampangan version of pancit palabok that is essentially the same dish. The only difference is that it uses thicker cornstarch noodles. The name comes from its traditional method of cooking, which uses a bamboo skimmer to submerge the noodles briefly in boiling water.\\nPancit lucban – a type found in Lucban. The noodles are mixed in with generous toppings and ingredients.\\nPancit Malabon – Thick rice noodles with different toppings that originated in Malabon. Early versions of this dish uses bamboo shoots.\\nPancit mami – round egg noodle soup\\nPancit mayaman – found in Guinayangan, Quezon\\nPancit miki – round egg noodles, or flat yellow noodles, or dusty white noodles either stir-fried or in soupy version.\\nPancit míki-bíhon guisado – round egg noodles with bihon, a hybrid type of stir-fried noodle.\\nPancit odong or Odong – Japanese-Visayan noodle dish from Mindanao and the Visayas that uses yellow round flour noodles called odong, canned sardines in tomato sauce, and vegetables (usually bottle gourd or patola).\\nPancit Olongapo – pancit miki prepared with sarsa (sauce) made of thickened chicken and pork broth, darkened with a little soy sauce.\\nPancit moròng\\nPancit palabok – uses thinner cornstarch noodles (sometimes substituted with bihon). It is topped with a shrimp-based sauce dyed bright orange with annatto seeds, shrimp, crushed or ground chicharrón, tinapa (smoked fish) flakes, hard-boiled eggs, and green onions.\\nPancit pula – a variation of pancit miki from Batangas City\\nPancit sotanghon – a cellophane noodle soup with a chicken broth base. It may include some kind of meat and vegetable. A typical sotanghon is made with calamansi, sliced straw mushrooms, slivered dark-meat chicken and green onion.\\nPansit sabaw – Pansit miki with soup\\nPansit Tuguegarao or Batil Patong – not commonly known outside of Tuguegarao in the province of Cagayan in Northern Luzon, Philippines. It is an unusual noodle dish with a sauce based on soy and \"cara-beef\" beef broth. It is served with two piquant side dishes: a cup of egg-drop soup made with the same cara-beef broth; and a dish of chopped onions, vinegar, or calamansi, chili peppers and soy sauce. The noodles are usually wheat-based and are topped with ground cara-beef, pork liver, mung bean sprouts, and poached egg from whence the name batil patong, literally \"scrambled and placed on top\" is thought to be derived. Sometimes, other vegetables, crushed pork-rind cracklings or chorizo are also added on top. The soup was served separately.\\nPansit sinanta – also from Tuguegarao, consists of flat egg noodles, bihon, clams and chicken, with broth colored with annatto and served with pinakufu, a variant of dango.\\nPansit langlang – a historical noodle dish from Cavite which is said to be the favorite of José Rizal, to the point he mentioned the dish in his novel El Filibusterismo.\\n\\nNon-noodle pancit\\nOther variants of pancit do not usually use noodles. They include:\\n\\nPancit buko – uniquely uses long coconut strips, instead of noodles.\\nPancit estacion – from Tanza, Cavite, uses mung bean sprouts instead of noodles.\\nPancit kilawin – a variety of pancit which originated in Rosario, Cavite. In lieu of rice or wheat noodles, shredded unripe papaya fruit is used cooked with vinegar and fish. Usually partnered with dinuguan, a dish made of pig\\'s blood.\\nPancit labong – An early version of pancit Malabon that uses julienned bamboo shoots instead of noodles.\\nPancit Molo – wonton soup with wonton wrappers added to the broth, serving as its \"noodles\".\\nPancit papaya – uses julienned young papaya strips, instead of noodles.\\nSeaweed pancit – a noodle variant from Tiwi, Albay which uses seaweed. It is rich in calcium and magnesium and the seaweed noodles can be cooked into pancit canton, pancit luglug, spaghetti, or carbonara.\\n\\n\\tGallery of pancit variants\\n\\nInstant pancit\\nCommercial instant noodle versions of pancit are also available, and are popular due to their affordability. The most common flavors are mami and pancit canton, but other Filipino-style noodles are also being adapted for the Philippine market.\\n\\nSee also\\nFilipino cuisine\\nFilipino Chinese cuisine\\nList of noodles\\nList of noodle dishes\\nNoodle soups\\n\\nReferences\\nExternal links\\n\\nPCIJ report on Pancit',\n",
       " 'Pinakbet (also called pakbet) is an indigenous Filipino dish from the northern regions of the Philippines. Pinakbet is made with a variety of mixed vegetables flavored with bagoóng. The word is the contracted from the Ilokano word pinakebbet, meaning \"shrunk\" or \"shriveled.\"\\n\\nIngredients\\nVegetables\\nIlocano cuisine is characterized by dishes that are either salty or bitter, requiring rice. Original Ilocano pinakbet is seasoned with bagoóng of fermented fish (buggúong nga ikán) usually of anchovies (munámon). The dish includes bitter melon (paría). These two ingredients define the inclinations of the Ilocano palate.\\nOther typical vegetables include eggplant (taróng), tomato (kamátis), okra, string beans (utóng), chilis (síli), hyacinth beans (párda), winged beans (pállang), and others. Root crops and some beans like sweet potato (kamótig), lima beans (patáni), pigeon peas (kárdis) are optionally added. Aromatics such as ginger (layá), shallots (sibúyas), and garlic (báwang) are commonly added. Many of these vegetables are easily accessible and are grown in the backyards and gardens of most Ilocano households.\\nSmaller vegetables are left whole or partially sliced in half (okra, tomatoes, chilis, hyacinth beans, smaller varieties of bitter melon and eggplants, aromatics), larger vegetables are cut into finger-length size (thinner eggplants, yardlong beans, winged beans), chopped into smaller chunks (larger varieties of bitter melon, sweet potatoes), and beans shelled from their pods (lima, pigeon peas).\\nAbsent from this list is calabaza (karabasa). Although widely grown in the Ilocos region, historically the cooking of calabaza was omitted from pinakbet because it took longer to cook in a claypot over a wood fire, compared to the other vegetables.\\n\\nSeasonings\\nBagoong provides the base. However, dried whole krill or smaller shrimps (áramang), larger headless dried shrimps (hébi), and dried anchovies, can be used to further enhance the broth similar to Japanese dashi (出汁) or Korean dasima (다시마) without having to use MSG. Other than for the aromatic vegetables (garlic, ginger, shallots), no other flavoring enhancers and spices such as peppercorns or bay leaves are used.\\n\\nMeat and seafood\\nPinakbet remains a straightforward healthy vegetable dish containing no meat. In Ilocano cuisine, meats are typically prepared separately on its own such as adobo or dinuguan (dinárdaraan) which contains no vegetables (or very few). Rather, meats including fish can be added as a garnish (ságpaw), typically stale or leftover lechon (lítson), chicharron (bágnet or tsitsarón) or fried fish (príto nga ikán). Rare and highly prized ingredients of fresh shrimps (pasáyan) or prawns (udáng) could also be used as sagpaw, when available.\\n\\nCooking\\nFats or oils are not used in the original preparation, either for the vegetables or proteins. The vegetables are cooked in a method between shallow boiling and steaming. A small amount of water is boiled in a pot (bánga). Some of this water is added to a bowl containing a small amount of buggúong. The buggúong is macerated with the water to dissolved. This mixture is then strained over the pot to remove fish debris such as bones to create a fish broth. The aromatics are added to the flavor the fish broth and optionally seasoned with the dried shrimp or anchovies, followed by the vegetables. To mix, the vegetables are gently tossed within the pot without the use a utensil to keep them relatively intact. As its name suggests, these vegetables are cooked until \"shriveled\". Leftover meats or seafood garnishes can be added near the end of the cooking time.\\n\\nOther preparations\\nIn areas outside of the Ilocos Region, shrimp paste (bagoóng alamáng) is commonly used in place of anchovy paste. Other non-Ilocano (\"Tagalog\") preparations include sauteing pork, adding calabaza (kalabasa), using flavoring agents like Maggi liquid seasoning or \"Magic Sarap,\" bouillon cube, fish sauce (patis), oyster sauce, meat stock, spices, bay leaves and pepper, or stewing in coconut milk.\\n\\nSimilar and related dishes\\nRelated dishes\\nDinengdeng — similar Ilocano vegetable dish\\nKinilnat — Ilocano blanched vegetable salad\\nSinabawang gulay — Filipino vegetable soup\\n\\nOther vegetable stews\\nBuddha\\'s delight — Chinese vegetarian dish\\nCaponata — Sicilian dish of eggplants and other vegetables\\nGhivetch — Balkan vegetable stew\\nRatatouille — French stew of similar preparation\\nTürlü — Turkish stewed vegetables\\n\\nReferences\\nExternal links\\nVarious authentic, exotic, Ilokano pinakbets - a feature on the famous pinakbet dish of the Ilokanos, how and why the Ilokano people prepare and cook \"original\" pinakbet.',\n",
       " 'Puto is a Filipino steamed rice cake, traditionally made from slightly fermented rice dough (galapong). It is eaten as is or as an accompaniment to a number of savoury dishes (most notably, dinuguan). Puto is also an umbrella term for various kinds of indigenous steamed cakes, including those made without rice. It is a sub-type of kakanin (rice cakes).\\n\\nDescription\\nPuto is made from rice soaked overnight to allow it to ferment slightly. Yeast may sometimes be added to aid this process. It is then ground (traditionally with stone mills) into a rice dough known as galapong. The mixture is then steamed.\\n\\nThe most common shape of the putuhán steamer used in making puto is round, ranging from 30 to 60 centimetres (12 to 24 in) in diameter and between 2 and 5 centimetres (0.79 and 1.97 in) deep. These steamers are rings made of either soldered sheet metal built around a perforated pan, or of thin strips of bent bamboo enclosing a flat basket of split bamboo slats (similar to a dim sum steamer basket). The cover is almost always conical to allow the condensing steam to drip along the perimeter instead of on the cakes. \\nA sheet of muslin (katsâ) is stretched over the steamer ring and the prepared rice batter poured directly on it; an alternative method uses banana leaf as a liner. The puto is then sold as large, thick cakes in flat baskets called bilao lined with banana leaf, either as whole loaves or sliced into smaller, lozenge-shaped individual portions.\\nProperly prepared puto imparts the slightly yeasty aroma of fermented rice galapong, which may be enhanced by the fragrance of banana leaves. It is neither sticky nor dry and crumbly, but soft, moist, and with a fine, uniform grain. The essential flavour is of freshly cooked rice, but it may be sweetened a bit if eaten by itself as a snack instead of as accompaniment to savory dishes. Most puto cooked in the Tagalog-speaking regions may contain a small quantity of wood ash lye. \\nPuto eaten on its own commonly add toppings like cheese, butter/margarine, hard-boiled eggs, meat, or freshly grated coconut. In Bulacan, puto with cheese toppings are humorously called putong bakla (\"homosexual puto\"), while puto with egg toppings are called putong lalaki (\"man\\'s puto) and those filled with meat are called putong babae (\"woman\\'s puto).\\n\\nVariants\\nPuto is also an umbrella term for various kinds of indigenous steamed cakes, including those made without rice. The key characteristics are that they are cooked by steaming and are made with some type of flour (to contrast with bibingka, which are baked cakes). There are exceptions, however, like puto seko which is a baked dry cookie. The traditional puto made with galapong is sometimes referred to as putong puti (\"white puto\") or putong bigas (\"rice puto) to distinguish it from other dishes also called puto. \\nModern variants of puto may also use non-traditional ingredients like ube (purple yam), vanilla, or chocolate. Notable variants of puto, as well as other dishes classified as puto, include the following:\\n\\nRice-based puto\\nPuto bagas - a puto shaped like a concave disc that is made from ground rice (maaw). Unlike other puto it is baked until crunchy. It originates from the Bicol Region.\\nPuto bao - a puto from the Bicol region traditionally cooked in halved coconut shells lined with a banana leaf. It distinctively has a filling of sweetened coconut meat (bukayo).\\nPuto bumbong – traditionally made from a special variety of sticky or glutinous rice (called pirurutong) which has a distinctly purple colour. The rice mixture is soaked in saltwater and dried overnight and then poured into bumbóng (bamboo tube) and then steamed until steam rises out of the bamboo tubes. It is served topped with butter or margarine and shredded coconut mixed with moscovado sugar. It is commonly eaten during Christmas in the Philippines along with bibingka, another type of rice cake.\\nPuto dahon or puto dahon saging - a puto from the Hiligaynon people that is traditionally cooked wrapped in a banana leaf.\\nPuto kutsinta (typically just called kutsinta or cuchinta)- a steamed rice cake similar to putong puti, but is made using lye. It is characteristically moist and chewy, and can range in color from reddish brown to yellow or orange in coloration. It is typically topped with shredded coconut meat.\\nPutong lusong - an anise-flavored puto from Pampanga typically served in square or rectangular slices.\\nPuto Manapla – a variant specifically flavored with anise and lined with banana leaves. It is named after the municipality of Manapla where it originates.\\nPuto maya – more accurately, a type of biko. It is made from glutinous rice (usually purple glutinous rice called tapol) soaked in water, drained and then placed into a steamer for 30 minutes. This rice mixture is then combined with coconut milk, salt, sugar and ginger juice and returned to the steamer for another 25 to 30 minutes. It is popular in the Cebuano-speaking regions of the Philippines. It is traditionally served as small patties and eaten very early in the morning with sikwate (hot chocolate). It is also commonly paired with ripe sweet mangoes.\\nPuto pandan – puto cooked with a knot of pandan leaves, which imparts additional fragrance and a light green color.\\nPuto-Pao – a combination of siopao (meat-filled bun) and puto. It uses the traditional puto recipe but incorporates a spiced meat filling. It is similar to some traditional variants of puto (especially in Bulacan) that also have meat fillings.\\nPutong pula - a Tagalog puto from the Rizal Province which uses brown muscovado sugar, giving it a brownish color.\\nPutong pulo or putong polo - small spherical puto from Tagalog regions that typically use achuete seeds for coloring, giving the puto a light brown to orange color. They are traditionally served with a topping of cheese or grated young coconut.\\nPutong sulot - a version of puto bumbong that uses white glutinous rice. Unlike puto bumbong it is available all-year round. It originates from the province of Pampanga and Batangas.\\nSayongsong – also known as sarungsong or alisuso, they are steamed ground mixture of glutinous rice, regular rice, and young coconut or roasted peanuts, with coconut milk, sugar, and calamansi juice. It is distinctively served in cone-shaped banana leaves. It is a specialty of Surigao del Norte and the Caraga Region, as well as the southeastern Visayas.\\n\\nOthers\\nPuto flan (also called leche puto, or puto leche) – a combination of a steamed muffin and leche flan (custard). It uses regular flour, though there are versions that use rice flour.\\nPutong kamotengkahoy - also known as puto binggala in Visayan and puto a banggala in Maranao. A small cupcake made from cassava, grated coconut, and sugar. It is very similar to cassava cake, except it is steamed rather than baked.\\nPuto lanson – puto from Iloilo which is made of grated cassava, and is foamy when cooked.\\nPuto mamón – a puto mixture that has no rice but combines egg yolks, salt and sugar. A mixture of milk and water and another of flour are alternately mixed into the yolks, then egg whites are beaten and folded in before the dough is poured into muffin cups and steamed for 15 to 20 minutes. It is a steamed variant of mamón, a traditional Filipino chiffon cake.\\nPuto seco (also spelled puto seko) – a type of powdery cookie made from corn flour. The name literally means \"dry puto\" in Spanish. It is baked rather than steamed. Sometimes also called puto masa (literally \"corn dough puto\"; not to be confused with masa podrida, a Filipino shortbread cookie).\\n\\nGallery\\nSee also\\n\\n\\n== References ==',\n",
       " 'Tinola is a Filipino soup usually served as a main course with white rice. Traditionally, this dish is cooked with chicken or fish, wedges of papaya and/or chayote, and leaves of the siling labuyo chili pepper in broth flavored with ginger, onions and fish sauce.\\n\\nVariants\\nVariants of the dish can substitute chicken with fish, seafood, or pork. Chayote or calabash (upo) can also be substituted for green papaya. In addition to pepper leaves, other leafy vegetables can also be used like pechay, spinach, moringa leaves, and mustard greens, among others. Additional ingredients like potatoes and tomatoes can also be added.\\n\\nCultural significance\\nOne of the earliest mentions of the dish is in José Rizal\\'s first novel, Noli Me Tangere, where Kapitan Tiago served it to Crisostomo Ibarra upon arriving from Europe. He was given the chicken liver and gizzard; meanwhile, to the dismay of the corrupt Spanish friar, Padre Damaso, who got chicken neck and wing, which is considered to be the least favored chicken part.\\n\\nSimilar dishes\\nTinola is very similar to binakol and ginataang manok, but differ in that the latter two use coconut water and coconut milk, respectively. A related dish is lauya of the Ilocano people. However, lauya is partial to pork or beef knuckles.\\nA similar soup dish is known as sinabawang gulay (lit. \"vegetable soup\", also utan Bisaya), which is made from moringa leaves and various vegetables.\\n\\nSee also\\nBinakol\\nGinataang manok\\nTiyula itum\\nSinampalukan\\nNilaga\\nList of soups\\n Food portal\\n\\n\\n== References ==',\n",
       " 'Galbi-tang (Korean: 갈비탕) or short rib soup is a variety of guk, or Korean soup, made primarily from beef short ribs along with stewing beef, radish, onions, and other ingredients. The short ribs, or \"galbi\",also refers to grilled short ribs in Korean barbecue while the suffix tang is another name for guk. Hence, the Korean name literally means \"short ribs soup\" and is also called garitang, or galitang. The clear and hearty soup is made by slowly simmering galbi in water for a long time and is eaten as a meal. It is similar to seolleongtang, a soup made from the bones of ox legs.\\nHistorical records on galbitang are found in records on table setting for Korean royal court banquets held in the 1890s. However, galbi was assumed to have been eaten since the end of the Goryeo Dynasty (918 – 1392).\\nGalbitang has been a representative dish served at wedding receptions.\\n\\nPreparation\\nAbout five hours are needed to cook the whole dish. Slits are made in the top of the inner bones with a sharp knife before the ribs are cut to make the flesh separate easily from the prepared beef rib. The ribs are chopped into pieces of  5–6 cm in length, and a whole radish is inserted into a pot with water over a high heat at first. As time goes by, the heat is lowered to a medium temperature. Once the beef becomes soft after being simmered for about four to five hours, the radish is taken out of the pot. It is flatly sliced into a 3 cm length. The ribs are also taken out of the pot and seasoned with minced scallions, garlic, and pepper powder, sesame oil, a mixture of sesame and salt, and soy sauce. As the soup is chilled, fat floating on the surface is removed. The seasoned ribs and sliced radish are again put into the pot and are simmered one more time.\\n\\nSee also\\nSamgyetang, a chicken ginseng soup\\nSeolleongtang, a beef soup\\nHaejangguk, soups eaten as a hangover remedy\\nList of soups\\nKorean cuisine\\nList of Korean dishes\\nIrish stew\\n\\nReferences\\nExternal links\\n\\nGalbitang recipe, Konglish Kitchen',\n",
       " 'Naengmyeon (냉면; 冷麵, in South Korea) or raengmyŏn (랭면, in North Korea) is a noodle dish of North Korean origin which consists of long and thin handmade noodles made from the flour and starch of various ingredients, including buckwheat (메밀, memil), potatoes, sweet potatoes, arrowroot starch (darker color and chewier than buckwheat noodles), and kudzu (칡, chik). Buckwheat predominates (despite the name, it is not a wheat but rather is more closely related to sorrel).  Other varieties of naengmyeon are made from ingredients such as seaweed and green tea. \\nIn modern times, the mul naengmyeon (물 냉면) variant is commonly associated with and popularly consumed during the summer; however, it was historically a dish enjoyed during winter.\\n\\nHistory\\nAccording to the 19th-century documents of Dongguksesigi (동국세시기, 東國歲時記), naengmyeon has been made since the Joseon Dynasty. Originally a delicacy in northern Korea, especially in the cities of Pyongyang (평양) and Hamhung (함흥), naengmyeon became widely popular throughout Korea in  both North and South Korea after the Korean War.\\nNaengmyeon is served in a large brass or stainless-steel bowl with a tangy iced broth, julienned cucumbers, slices of Korean pear, thin, wide strips of lightly pickled radish, and either a boiled egg or slices of cold boiled beef or both. Spicy mustard sauce (or mustard oil) and vinegar are often added before consumption. Traditionally, the long noodles would be eaten without cutting, as they symbolized longevity of life and good health, but servers at restaurants usually ask if the noodles should be cut prior to eating, and use scissors to cut the noodles.\\n\\nVarieties\\nThe two main varieties of naengmyeon are mul naengmyeon (물 냉면) and bibim naengmyeon (비빔 냉면). The former is served as a cold noodle soup made from beef, chicken or dongchimi broth. The latter is served with a spicy dressing made primarily from gochujang (red chili paste) and eaten mixed. In the case of bibim naengmyeon, a bowl of broth used in mul naengmyeon or plain broth from the boiled noodles itself are often served on the side. This broth can be served hot or cold depending on the restaurant and type of broth. Boiled eggs and sliced cucumbers are often added as a garnish.\\nMul naengmyeon originates from Pyongyang. Pyŏngyang naengmyŏn is mainly made from buckwheat and either beef or pheasant broth. It also uses dongchimi broth or a mixture of it, while adding sliced pieces of radish to the dish. Vinegar, mustard oil (provided on request at most restaurants), and sugar is added according to taste before eating.  South Koreans do not add sugar and use beef broth exclusively. In South Jeolla Province, mul naengmyeon is often served with red chili paste that is mixed in with the broth. The effect is similar to adding the broth to a bowl of bibim naengmyeon.\\nA version of bibim naengmyeon originates from Hamhung, the hoe naengmyeon (회 냉면). Hoe naengmyeon is bibim naengmyeon with additional marinated raw fish (hoe), usually skate. It is eaten with gochujang and other ingredients mixed. Vinegar, sugar, and sometimes sesame oil are added according to taste. The noodles of Hamhung naengmyeon are typically made from potato or sweet potato starch, making the noodles chewier in texture compared to those of Pyongyang naengmyeon. In addition to skate, pollock (명태) can also be used in hoe naengmyeon. In this case it is referred to as myeongtae hoe naengmyeon (명태회냉면).\\nAnother variety of naengmyeon is yeolmu naengmyeon (열무 냉면) which is served with yeolmu kimchi, made from the leaves of the yeolmu summer radish.\\nJungguk-naengmyeon (중국냉면) is a Chinese-influenced cold noodle soup in Korean Chinese cuisine.  Likewise, a Chinese version of the dish known as \"Korean cold noodles\" (朝鲜冷面; Cháoxiǎn lěng miàn) or \"Dongbei cold noodles\" (东北冷面; Dōngběi lěng miàn) is popular in the Northeast China region bordering Korea.\\nMorioka Reimen (盛岡冷麺) is derived from naengmyeon which was introduced by Korean immigrants, and is part of Japanese regional cuisine in Tohoku region.\\nInstant naengmyeon noodles are available, with the soup broth prepackaged with the noodles. A plastic package of mustard oil is often supplied.\\n\\nGallery\\nIn popular culture\\nIn the South Korean variety show Infinite Challenge, Park Myeong-su and Jessica, a former member of Girls\\' Generation, performed the song \"Naengmyeon\" which was named after the food. The song became a hit and received wide acclaim. The plot of the 2020 daily soap opera Brilliant Heritage revolves around a naengmyeon shop, among other riches owned by an 80-year-old man who marries a 33-year-old woman to spite his children.\\n\\nIn politics\\nDuring the first summit between North and South Korean leaders, Kim Jong-un and Moon Jae-in, Kim presented Moon with Pyongyang-style raengmyŏn as a gift.\\n\\nSee also\\nKorean cuisine\\nMak-guksu\\nMilmyeon\\nKong-guksu\\nJat-guksu\\n\\nReferences\\nExternal links\\n\\nNaengmyeon - Official Seoul City Tourism',\n",
       " 'Kimchi (; Korean: 김치, romanized: gimchi, IPA: [kim.tɕʰi]) is a traditional Korean side dish (banchan) consisting of salted and fermented vegetables, most often napa cabbage or Korean radish. A wide selection of seasonings are used, including gochugaru (Korean chili powder), spring onions, garlic, ginger, and jeotgal (a salted seafood). Kimchi is also used in a variety of soups and stews. Kimchi is a staple food in Korean cuisine and is eaten as a side dish with almost every Korean meal.\\nThere are hundreds of different types of kimchi made with different vegetables as the main ingredients. Traditionally, winter kimchi, called kimjang, was stored in large earthenware fermentation vessels, called onggi, in the ground to prevent freezing during the winter months and to keep it cool enough to slow down the fermentation process during summer months. The vessels are also kept outdoors in special terraces called jangdokdae. In contemporary times, household kimchi refrigerators are more commonly used.\\n\\nEtymology\\nJi\\nThe term ji (지), which has its origins in archaic Korean dihi (디히), has been used to refer to kimchi since ancient times. The sound change can be roughly described as:\\n\\ndihi (디히) > di (디) > ji (지)\\nThe Middle Korean form dihi is found in several books from Joseon (1392–1897). In Modern Korean, the word remains as the suffix -ji in the standard language (as in jjanji, seokbak-ji), and as the suffix -ji as well as the noun ji in Gyeongsang and Jeolla dialects. The unpalatalized form di is preserved in P\\'yŏngan dialect.\\n\\nKimchi\\nKimchi (김치) is the accepted word in both North and South Korean standard languages. Earlier forms of the word include timchɑi (팀ᄎᆡ), a Middle Korean transcription of the Sino-Korean word 沈菜 (literally \"submerged vegetable\"). Timchɑi appears in Sohak Eonhae, the 16th century Korean rendition of the Chinese book, Xiaoxue. Sound changes from Middle Korean to Modern Korean regarding the word can be described as:\\n\\ntimchɑi (팀ᄎᆡ; 沈菜) > dimchɑi (딤ᄎᆡ) > jimchɑi (짐ᄎᆡ) > jimchui (짐츼) >  gimchi (김치)\\nThe aspirated first consonant of timchae became unaspirated in dimchɑe, then underwent palatalization in jimchɑe. The word then became jimchui with the loss of the vowel ɑ (ㆍ) in Korean language, then Kimchi, with the depalatalized word-initial consonant. In Modern Korean, the hanja characters 沈菜 are pronounced chimchae (침채), and are not used to refer to kimchi, or anything else. The word Kimchi is not considered as a Sino-Korean word. Older forms of the word are retained in many regional dialects: jimchae (Jeolla, Hamgyŏng dialects), jimchi (Chungcheong, Gangwon, Gyeonggi, Gyeongsang, Hamgyŏng, Jeolla dialects), and dimchi (P\\'yŏngan dialect).\\nThe English word \"kimchi\" perhaps originated from kimch\\'i, the McCune–Reischauer transcription of the Korean word Kimchi (김치).\\n\\nHistory\\nEarly history\\nSamguk Sagi, a historical record of the Three Kingdoms of Korea, mentions the pickle jar used to ferment vegetables, which indicates that fermented vegetables were commonly eaten during this time. Attributed with the earliest kimchi, the Goguryeo people were skilled at fermenting and widely consumed fermented food. During the Silla dynasty (57 BC – AD 935), kimchi became prevalent as Buddhism caught on throughout the nation and fostered a vegetarian lifestyle. \\nThe pickling of vegetables was an ideal method, prior to refrigerators, that helped to preserve the lifespan of foods. In Korea, kimchi was made during the winter by fermenting vegetables, and burying it in the ground in traditional brown ceramic pots called onggi. This labor further allowed a bonding among women within the family. A poem on Korean radish written by Yi Gyubo, a 13th-century literatus, shows that radish kimchi was common in Goryeo (918–1392).\\n\\nPickled radish slices make a good summer side-dish,Radish preserved in salt is a winter side-dish from start to end.The roots in the earth grow plumper every day,Harvesting after the frost, a slice cut by a knife tastes like a pear.\\nKimchi has been a staple in Korean culture, but historical versions were not a spicy dish. Early records of kimchi do not mention garlic or chili pepper. Chili peppers, now a standard ingredient in kimchi, had been unknown in Korea until the early seventeenth century due to its being a New World crop. Chili peppers, originally native to the Americas, were introduced to East Asia by Portuguese traders. The first mention of chili pepper is found in Jibong yuseol, an encyclopedia published in 1614. Sallim gyeongje, a 17‒18th century book on farm management, wrote on kimchi with chili peppers. However, it was not until the 19th century that the use of chili peppers in kimchi became widespread. Recipes from the early 19th century closely resemble today\\'s kimchi.\\nA 1766 book, Jeungbo sallim gyeongje, reports kimchi varieties made with myriad ingredients, including chonggak-kimchi (kimchi made with chonggak radish), oi-sobagi (with cucumber), seokbak-ji (with jogi-jeot), and dongchimi. However, napa cabbage was introduced to Korea only at the end of 19th century, and whole-cabbage kimchi similar to its current form is described in Siuijeonseo, a cookbook published around that time.\\n\\nModern history\\nDuring South Korea\\'s involvement in the Vietnam War the industrialization and commercialization of kimchi production became increasingly important because the Korean government wanted to provide rations for its troops. The Korean government requested American help to ensure that South Korean troops, reportedly \"desperate\" for the food, could obtain it in the field.\\nIn 2008, South Korean scientists created a special low-calorie, vitamin-rich \"space kimchi\" for Yi So-yeon, the first Korean astronaut, to take to space. It was bacteria-free, unlike normal Kimchi in which bacteria are essential for fermentation. It was feared that cosmic rays might mutate the bacteria.\\nSouth Korea developed programs for adult Korean adoptees to return to South Korea and learn about what it means to be Korean. One of these programs was learning how to make kimchi.\\n\\n1996 kimchi standard dispute with Japan\\nIn 1996, Korea protested against Japanese commercial production of kimchi arguing that the Japanese-produced product (kimuchi, キムチ) was different from kimchi. In particular, Japanese kimchi was not fermented and was more similar to asazuke. Korea lobbied for an international standard from the Codex Alimentarius, an organization associated with the World Health Organization that defines voluntary standards for food preparation for international trade purposes. In 2001, the Codex Alimentarius published a voluntary standard defining kimchi as \"a fermented food that uses salted napa cabbages as its main ingredient mixed with seasonings, and goes through a lactic acid production process at a low temperature\", but which neither specified a minimum amount of fermentation nor forbade the use of any additives. Following the inclusion of the kimchi standard, kimchi exports in Korea did increase, but so did the production of kimchi in China and the import of Chinese kimchi into Korea.\\n\\n2010 Kimchi ingredient price crisis\\nDue to heavy rainfall shortening the harvesting time for cabbage and other main ingredients for kimchi in 2010, the price of kimchi ingredients and kimchi itself rose greatly. Korean and international newspapers described the rise in prices as a national crisis. Some restaurants stopped offering kimchi as a free side dish, which The New York Times compared to an American hamburger restaurant no longer offering free ketchup. In response to the kimchi price crisis, the South Korean government announced the temporary reduction of tariffs on imported cabbage to coincide with the kimjang season.\\n\\nIntangible Cultural Heritage of Humanity\\nKimchi-related items have been inscribed on UNESCO\\'s Representative List of the Intangible Cultural Heritage of Humanity by both South and North Korea. This makes kimchi the second intangible heritage that was submitted by two countries, the other one being the folk song \"Arirang\" which was also submitted by both the Koreas. \"The culture of kimjang\" was the subject of the Intangible Cultural Heritage: kimchi is not registered by itself.\\n\\nSubmitted by South Korea (inscribed 2013)\\nKimjang, the tradition of making and sharing kimchi that usually takes place in late autumn, was added to the list as \"Gimjang, making and sharing kimchi in the Republic of Korea\". The practice of Gimjang reaffirms Korean identity and strengthens family cooperation. Gimjang is also an important reminder for many Koreans that human communities need to live in harmony with nature.\\n\\nSubmitted by North Korea (inscribed 2015)\\nNorth Korean kimchi-making was inscribed on the list in December 2015 as \"Tradition of kimchi-making in the Democratic People\\'s Republic of Korea\". North Korean kimchi tends to be less spicy and less red than South Korean kimchi. Seafood is used less often and less salt is added. Additional sugar is used to help with fermentation in the cold climate.\\n\\nKimchi Day\\nIn the United States, states California, Virginia, Maryland and New York, and capital city Washington D.C. have issued proclamations declaring November 22 as \\'Kimchi Day\\' to recognize the importance of the dish as part of Korean culture.\\n\\n2012 effective ban by China of Korean kimchi imports\\nSince 2012, the Chinese government has effectively banned the import of Korean kimchi through government regulations. Ignoring the standards of kimchi outlined by the Codex Alimentarius, China defined kimchi as a derivative of one of its own cuisines, called pao cai. However, due to significantly different preparation techniques from pao cai, kimchi has significantly more lactic acid bacteria through its fermentation process, which exceeds China\\'s regulations. Since 2012, commercial exports of Korean kimchi to China has reached zero; the only minor amounts of exports accounting for Korean kimchi are exhibition events held in China.\\n\\nBoycott in China\\nA 2017 article in The New York Times said that anti-Korean sentiment in China has risen after South Korea\\'s acceptance of the deployment of THAAD in South Korea. Government-run Chinese news media have encouraged the boycott of South Korean goods, and Chinese nationalists have vowed to not eat kimchi. The move was criticized by other Chinese nationalists, who noted that China officially considered Koreans an integral ethnic group in the multinational state, and that kimchi is also indigenous to Korea in the Yanbian Korean Autonomous Prefecture.\\n\\n2020 kimchi ISO standard dispute with China\\nIn November 2020, the International Organization for Standardization (ISO) posted ISO 24220:2020, new regulations for the making of pao cai. The same month, BBC News reported that Chinese news organization Global Times claimed the new ISO standard was \"an international standard for the kimchi industry led by China\" despite the standard clearly stating \"this document does not apply to kimchi\". This sparked strong anger from South Korean media and people, as well as the responses from some Chinese people who argued China held the right to claim kimchi as their own. \\nHowever clarifications from both countries, later revealed that the controversy was triggered over a misunderstanding of a translation of the Chinese word pao cai. After the controversy emerged, Global Times explained it was simply a \"misunderstanding in translation\", where they had meant to refer to Chinese pao cai, and their Chinese language article had used the term pao cai, but their English language version had \"erroneously\" translated it as \"kimchi\", and that the dispute arose from being innocently \"lost in translation\". They acknowledged that kimchi and pao cai are two different foods, where \"Kimchi refers to a kind of fermented cabbage dish that plays an integral role in Korean cuisine, while pàocài, or Sichuan pàocài, refers to pickled vegetables that are popular originally in Southwest China\\'s Sichuan Province, but now in most parts of northern China.\" Global Times also reported that Baidu Baike, a Chinese online encyclopedia, removed the controversial phrase \"Korean kimchi originated from China\" after the request. \\nAccording to Sojin Lim, co-director of the Institute of Korean Studies of the University of Central Lancashire, Korean kimchi is often called pao cai in China, but China has its own Sichuanese fermented vegetable dish that it also calls pao cai. In 2021, the South Korean Ministry of Culture, Sports and Tourism subsequently presented the guidelines to set the term xīnqí (辛奇) as the new proper Chinese translation of kimchi, while pàocài was no longer the acceptable translation. However CNN reported that the new Chinese translation of kimchi was unpopular with both Chinese and Korean netizens, and that some Chinese people complained that they do recognise the difference between dishes, but don\\'t like to be told how to translate Kimchi in Chinese. There were also complaints among Koreans that Korea is appropriating their own traditional culture for the Chinese, by trying to promote a Chinese term for Kimchi which doesn\\'t have an authentic Korean sound.\\n\\nIngredients\\nKimchi varieties are determined by the main vegetable ingredients and the mix of seasoning used to flavor the kimchi.\\n\\nVegetables\\nCabbages (napa cabbages, bomdong, headed cabbages) and radishes (Korean radishes, ponytail radishes, gegeol radishes, yeolmu radishes) are the most commonly used kimchi vegetables. Other kimchi vegetables include: aster, balloon flower roots, burdock roots, celery, chamnamul, cilantro, cress, crown daisy greens, cucumber, eggplant, garlic chives, garlic scapes, ginger, Korean angelica-tree shoots, Korean parsley, Korean wild chive, lotus roots, mustard greens, onions, perilla leaves, bamboo shoot, momordica charantia, pumpkins, radish greens, rapeseed leaves, scallions, seaweed,  soybean sprouts, spinach, sugar beets, sweet potato vines, and tomatoes.\\n\\nSeasonings\\nBrining salt (with a larger grain size compared to kitchen salt) is used mainly for initial salting of kimchi vegetables. Being minimally processed, it serves to help develop flavors in fermented foods. Cabbage is usually salted twice when making spicy kimchi.\\nCommonly used seasonings include gochugaru (chili powder), scallions, garlic, ginger, and jeotgal (salted seafood) Jeotgal can be replaced with raw seafood in colder Northern parts of the Korean peninsula. If used, milder saeu-jeot (salted shrimp) or jogi-jeot (salted croaker) is preferred and the amount of jeotgal is also reduced in Northern and Central regions. In Southern Korea, on the other hand, a generous amount of stronger myeolchi-jeot (salted anchovies) and galchi-jeot (salted hairtail) is commonly used. Raw seafood or daegu-agami-jeot (salted cod gills) are used in the East coast areas.\\nSalt, scallions, garlic, fish sauce, and sugar are commonly added to flavor the kimchi.\\n\\nProduction\\nThe first step in the making of any kimchi is to slice the cabbage or daikon into smaller, uniform pieces to increase the surface area. The pieces are then coated with salt as a preservative method, as this draws out the water to lower the free water activity. This inhibits the growth of undesirable microorganisms by limiting the water available for them to utilize for growth and metabolism. The salting stage can use 5 to 7% salinity for 12 hours, or 15% for 3 to 7 hours. \\nThe excess water is then drained away, and seasoning ingredients are added. The sugar that is sometimes added also acts to bind free water that still remains, further reducing free water activity. Finally, the brined vegetables are placed into an airtight canning jar and left to sit for 24 to 48 hours at room temperature. The ideal salt concentration during the fermentation process is about 3%. \\nSince the fermentation process results in the production of carbon dioxide, the jar should be \"burped\" daily to release the gas. The more fermentation that occurs, the more carbon dioxide will be incorporated, which results in a very carbonated-drink-like effect.\\n\\nMicroorganisms in kimchi\\nThe microorganisms present in kimchi include Bacillus mycoides, B. pseudomycoides, B. subtilis, Lactobacillus brevis, Lb. curvatus, Lb. kimchii, Lb. parabrevis, Lb. pentosus, Lb. plantarum, Lb. sakei, Lb. spicheri, Lactococcus carnosum, Lc. gelidum, Lc. lactis, Leuconostoc carnosum, Ln. citreum, Ln. gasicomitatum, Ln. gelidum, Ln. holzapfelii, Ln. inhae, Ln. kimchii, Ln. lactis, Ln. mesenteroides, Serratia marcescens, Weissella cibaria, W. confusa, W. kandleri, W. kimchii. W. koreensis, and W. soli. Archaea and yeasts, such as Saccharomyces, Candida, Pichia, and Kluyveromyces are also present in kimchi, with the latter being responsible for undesirable white colonies that sometimes form in the product as well as food spoilages and off-flavors.\\nIn early fermentation stages, the Leuconostoc variety is found more dominantly in kimchi fermentation because of its lower acid tolerance and microaerophilic properties; the Leuconostoc variety also grows better at low salt concentrations. Throughout the fermentation process, as acidity rises, the Lactobacillus and Weissella variety become dominant because of their higher acid tolerance. Lactobacillus also grows better in conditions with a higher salt concentration.\\nThese microorganisms are present due to the natural microflora provided by utilizing unsterilized food materials in the production of kimchi. The step of salting the raw materials as well as the addition of red pepper powder inhibit the pathogenic and putrefactive bacteria present in the microflora, allowing the lactic acid bacteria (LAB) to flourish and become the dominant microorganism. These anaerobic microorganisms steadily increase in number during the middle stages of fermentation, and prefer to be kept at low temperatures of about 10°C, pH of 4.2-4, and remain in the presence of 1.5% – 4% NaCl. A faster fermentation at a higher temperature may be chosen as well to accelerate the growth of bacterial cultures for a faster decrease in pH level.\\nSince the raw cruciferous vegetables themselves are the source of LAB required for fermentation, no starter culture is required for the production of kimchi; rather, spontaneous fermentation occurs. The total population of microorganisms present at the beginning of processing determine the outcome of fermentation, causing the final product to be highly variable in terms of quality and flavor. Currently, there are no recommended approaches to control the microbial community during fermentation to predict the outcome. In the industrial production of kimchi, starter cultures made up of Leu. mesenteroides, Leu. citreum, and Lb. plantarum are used, which are often unsuccessful because they fail to outcompete the naturally occurring cultures on the raw materials.\\n\\nBy-products of microorganisms\\nThe lactic acid bacteria (LAB) produce lactic acid, hydrogen peroxide, and carbon dioxide as by-products during metabolism. Lactic acid quickly lowers the pH, creating an acidic environment that is uninhabitable for most other microorganisms that survived salting. This also modifies the flavor of sub-ingredients and can increase the nutritive value of the raw materials, as the microbial community in the fermentation process can synthesize B vitamins and hydrolyze cellulose in plant tissues to free nutrients that are normally indigestible by the human gastrointestinal tract. Hydrogen peroxide is formed by the oxidation of reduced nicotinamide adenine dinucleotide (NADH) and provides an antibiotic to inhibit some undesirable microorganisms. Carbon dioxide functions as a preservative, flushing out oxygen to create an anaerobic environment, as well as creating the desired carbonation in the final product.\\n\\nOdor\\nKimchi is known for its strong, spicy, flavors and odors, although milder varieties exist. Variations in the fermentation process cause the final product to be highly variable in terms of quality and flavor. The strong odor is especially tied to the sulfur compounds from garlic and ginger of kimchi, which can be less appealing to non-Koreans. Thus, scientists are experimenting with the types of bacteria used in its production to minimize the odor to increase the appeal for international markets. These efforts are not universally appreciated by lovers of kimchi, as the flavor is affected in the process, and some see that \"South Korea\\'s narrative about its own culinary staple\" is being manipulated to suit the foreigners\\' tastes.\\n\\nVarieties\\nKimchi is one of the most important staples of Korean cuisine. The Korean term \"Kimchi\" refers to fermented vegetables, and encompasses salt and seasoned vegetables. It is mainly served as a side dish with every meal, but also can be served as a main dish. Kimchi is mainly recognized as a spicy fermented cabbage dish globally. \\nNew variations of kimchi continue to be created, and the taste can vary depending on the region and season. Conventionally, the secret of kimchi preparation was passed down by mothers to their daughters in a bid to make them suitable wives to their husbands. However, with the current technological advancement and increase in social media use, many individuals worldwide can now access recipes for kimchi preparation.\\nKimchi can be categorized by main ingredients, regions or seasons. Korea\\'s northern and southern sections have a considerable temperature difference. There are over 180 recognized varieties of kimchi. The most common kimchi variations are:\\n\\nBaechu-kimchi (배추김치) spicy napa cabbage kimchi, made from whole cabbage leaves\\nBaechu-geotjeori (배추겉절이) unfermented napa cabbage kimchi\\nBossam-kimchi (보쌈김치) wrapped kimchi\\nBaek-kimchi (백김치) white kimchi, made without chili pepper\\nDongchimi (동치미) a non-spicy watery kimchi\\nNabak-kimchi (나박김치) a mildly spicy watery kimchi\\nChonggak-kimchi (총각김치) cubed chonggak \"ponytail\" radish, a popular spicy kimchi\\nKkakdugi (깍두기) spicy cubed Korean radish strongly-scented kimchi containing fermented shrimp\\nOi-sobagi (오이소박이) cucumber kimchi that can be stuffed with seafood and chili paste, and is a popular choice during the spring and summer seasons\\nPa-kimchi (파김치) spicy green onion kimchi\\nYeolmu-kimchi (열무김치) is also a popular choice during the spring and summer, and is made with yeolmu radishes, and does not necessarily have to be fermented.\\nGat-kimchi (갓김치), made with Indian mustard\\nYangbaechu-kimchi (양배추 김치) spicy cabbage kimchi, made from \"headed\" cabbage leaves (as opposed to napa cabbage)\\nKimchi from the northern parts of Korea tends to have less salt and red chili and usually does not include brined seafood for seasoning. Northern kimchi often has a watery consistency. Kimchi made in the southern parts of Korea, such as Jeolla Province and Gyeongsang Province, uses salt, chili peppers and myeolchijeot (멸치젓, brined anchovy allowed to ferment) or saeujeot (새우젓, brined shrimp allowed to ferment), myeolchiaekjeot (멸치액젓), anchovy fish sauce, kkanariaekjeot (까나리액젓), liquid anchovy jeot, similar to fish sauce used in Southeast Asia, but thicker.\\nSaeujeot (새우젓) or myeolchijeot is not added to the kimchi spice-seasoning mixture, but is simmered first to reduce odors, eliminate tannic flavor and fats, and then is mixed with a thickener made of rice or wheat starch (풀). This technique has been falling into disuse in the past 40 years.\\n\\nColor\\nWhite kimchi is neither red nor spicy. It includes white napa cabbage kimchi and other varieties such as white radish kimchi (dongchimi). Watery white kimchi varieties are sometimes used as an ingredient in a number of dishes such as cold noodles in dongchimi brine (dongchimi-guksu).\\n\\nAge\\nGeotjeori (겉절이): fresh, unfermented kimchi.\\nMugeun-ji (묵은지), also known as mugeun-kimchi (묵은김치): aged kimchi\\n\\nRegion\\nThe following regional classification dates to the 1960s. Since then, kimchi-making practices and trends in Korea have diverged from it.\\n\\nPyongan Province (North Korea, outside of Pyongyang): Non-traditional ingredients have been adopted in rural areas due to severe food shortages.\\nHamgyong Province (Upper Northeast): Due to its proximity to the ocean, people in this particular region use fresh fish and oysters to season their kimchi.\\nHwanghae Province (Midwest): The taste of kimchi in Hwanghae-do is not bland but not extremely spicy. Most kimchi from this region has less color since red chili flakes are not used. The typical kimchi for Hwanghae-do is called hobakji (호박지). It is made with pumpkin (bundi).\\nGyeonggi Province (Lower Midwest of Hwanghae-do)\\nChungcheong Province (between Gyeonggi-do and Jeolla-do): Instead of using fermented fish, people in the region rely on salt and fermentation to make savory kimchi. Chungcheong-do has the most varieties of kimchi.\\nGangwon Province, South Korea/Kangwon Province, North Korea (Mideast): In Gangwon-do, kimchi is stored for longer periods. Unlike other coastal regions in Korea, kimchi in this area does not contain much salted fish.\\nJeolla Province (Lower Southwest): Salted yellow corvina and salted butterfish are used in this region to create different seasonings for kimchi.\\nGyeongsang Province (Lower Southeast): This region\\'s cuisine is saltier and spicier. The most common seasoning components include myeolchijeot (멸치젓) which produce a briny and savory flavor. They also use oysters in their kimchi.\\nForeign countries: In some places of the world people sometimes make kimchi with western cabbage and many other alternative ingredients such as broccoli.\\n\\nSeasonal variations\\nDifferent types of kimchi were traditionally made at different times of the year, based on when various vegetables were in season and also to take advantage of hot and cold seasons before the era of refrigeration. Although the advent of modern refrigeration – including kimchi refrigerators specifically designed with precise controls to keep different varieties of kimchi at optimal temperatures at various stages of fermentation – has made this seasonality unnecessary, Koreans continue to consume kimchi according to traditional seasonal preferences.\\n\\nSpring\\nAfter a long period of consuming gimjang kimchi (김장김치) during the winter, fresh potherbs and vegetables were used to make kimchi. These kinds of kimchi were not fermented or even stored for long periods of time but were consumed fresh.\\n\\nSummer\\nYeolmu radishes and cucumbers are summer vegetables made into kimchi, yeolmu-kimchi (열무김치) which is eaten in several bites. Brined fish or shellfish can be added, and freshly ground dried chili peppers are often used.\\n\\nAutumn\\nBaechu kimchi is prepared by inserting blended stuffing materials, called sok (literally inside), between layers of salted leaves of uncut, whole Napa cabbage. The ingredients of sok (속) can vary, depending on the regions and weather conditions. Generally, baechu kimchi used to have a strong salty flavor until the late 1960s, before which a large amount of myeolchijeot or saeujeot had been used.\\nGogumasoon Kimchi is made from sweet potato stems.\\n\\nWinter\\nTraditionally, the greatest varieties of kimchi were available during the winter. In preparation for the long winter months, many types of kimjang kimchi (김장 김치) were prepared in early winter and stored in the ground in large kimchi pots. Today, many city residents use modern kimchi refrigerators offering precise temperature controls to store kimjang kimchi. November and December are traditionally when people begin to make kimchi; women often gather together in each other\\'s homes to help with winter kimchi preparations. \"Baechu kimchi\" is made with salted baechu filled with thin strips of radish, parsley, pine nuts, pears, chestnuts, shredded red pepper, manna lichen (Korean: 석이 버섯; RR: seogi beoseot), garlic, and ginger.\\n\\nKorean preference\\nAs of 2004, the preference of kimchi preparation in Korean households from the most prepared type of kimchi to less prepared types of kimchi was: baechu kimchi, being the most prepared type of kimchi, then kkakdugi, then dongchimi and then chonggak kimchi. Baechu kimchi comprised more than seventy percent of marketed kimchi and radish kimchi comprised about twenty percent of marketed kimchi.\\n\\nDishes usually served with kimchi\\nAs a traditional side dish, Kimchi is almost always served along with other side dishes in most Korean family households and restaurants. Kimchi can be eaten alone or with white or brown rice, but it is also included in recipes of other traditional dishes, including porridges, soups, and rice cakes. Kimchi is also the basis for many derivative dishes such as kimchi jjigae (김치찌개; gimchijjigae), kimchi-buchimgae (김치전; gimchibuchimgae), kimchi-guk (김칫국; gimchiguk), and kimchi fried rice (김치볶음밥; gimchibokkeumbap). \\nbudae-jjigae (부대찌개; Budae-jjigae) is a popular dish made with spam, sausage, and kimchi. It originated after the Korean war based on ingredients scrounged from the army.\\n\\nNutrition\\nKimchi is made of various vegetables and contains a high concentration of dietary fiber, while being low in calories. The vegetables used in kimchi also contribute to intake of vitamin A, thiamine (B1), riboflavin (B2), calcium, and iron.\\n\\nA 2003 article said that South Koreans consume 18kg (40lbs) of kimchi per person annually. Many credit the Korean Miracle in part to eating the dish. Adult Koreans eat from 50 grams (0.11 lb) to 200 grams (0.44 lb) of kimchi a day.\\n\\nTrade\\nSouth Korea spent around $129 million in 2017 to purchase 275,000 metric tons of foreign kimchi, more than 11 times the amount it exported, according to data released by the Korea Customs Service in 2017. South Korea consumes 1.85 million metric tons of kimchi annually, or 36.1 kg per person. It imports a significant fraction of that, mostly from China, and runs a $47.3 million kimchi trade deficit.\\n\\nConsumption\\nIn 2021, Koreans collectively consumed 1,965,000 tons of Kimchi, with average Korean consuming 88.3 grams of Kimchi daily. This average has been steadily declining from 109.9 grams per day in 2010, marking a 19.6% decrease. Males tend to consume more Kimchi than females, with an average of 106.6 grams compared to 70.0 grams.\\n\\nFood regulations\\nThe Canadian Food Inspection Agency has regulations for the commercial production of kimchi. The final product should have a pH ranging from 4.2 to 4.5. Any low-acidity ingredients with a pH above 4.6, including white daikon and napa cabbage, should not be left under conditions that enable the growth of undesirable microorganisms and require a written illustration of the procedure designed to ensure this is available if requested. This procedural design should include steps that maintain sterility of the equipment and products used, and the details of all sterilization processes. The cutoff pH of 4.6 is a value common to many food safety regulations, initially defined because botulism toxin is not produced below this level.\\n\\nGallery\\nSee also\\nWorld Institute of Kimchi – South Korean food R&D organization\\nFoods containing tyramine – Chemical compoundPages displaying short descriptions of redirect targets\\nJangajji – Korean pickled vegetable dish\\nJeotgal – Korean salted seafood category\\nKimchi burger – Hamburger that includes kimchi in its preparation\\nKorean radish – Variety of edible white radish\\nKorean brining salt – Coarse salt\\nMorkovcha – Koryo-saram spicy marinated carrot dish – a variety of kimchi made of carrots by Koryo-saram\\nList of cabbage dishes\\nList of English words of Korean origin\\nList of pickled foods\\nPao cai – Pickle in Chinese, and particularly Sichuan cuisine.\\nSauerkraut – Finely sliced and fermented cabbage\\nTorshi, also known as Tursu – Middle Eastern and Balkan pickled vegetables\\n\\nReferences\\nFurther reading\\nPark, Kun-Young; Cheigh, Hong-Sik (2003). Handbook of Vegetable Preservation and Processing. CRC Press. pp. 189–222. ISBN 978-0-8247-4301-7. Retrieved 18 May 2008.\\nGannon, Martin J. (2004). Understanding Global Cultures. SAGE Publications. pp. 123–130. ISBN 978-0-7619-2980-2. Retrieved 18 May 2008. kimchi.\\nPark, Sung Hoon; Lee, Chang Hyeon (2023). \"Evaluation of Accuracy and Adequacy of Kimchi Information in Major Foreign Online Encyclopedias\". Journal of the Korean Society of Food Culture (in Korean). 38 (4): 203–216. doi:10.7318/KJFC/2023.38.4.203. ISSN 1225-7060.',\n",
       " 'Tteokbokki (Korean: 떡볶이), or simmered rice cake, is a popular Korean food made from small-sized garae-tteok (long, white, cylinder-shaped rice cakes) called tteokmyeon (떡면; \"rice cake noodles\") or commonly tteokbokki-tteok (떡볶이 떡; \"tteokbokki rice cakes\"). Eomuk (fish cakes), boiled eggs, and scallions are some common ingredients paired with tteokbokki in dishes. It can be seasoned with either spicy gochujang (chili paste) or non-spicy ganjang (soy sauce)-based sauce; the former is the most common form, while the latter is less common and sometimes called gungjung-tteokbokki (royal court tteokbokki).\\nToday, variations also include curry-tteokbokki, cream sauce-tteokbokki, jajang-tteokbokki, seafood-tteokbokki, rose-tteokbokki, galbi-tteokbokki and so on. Tteokbokki is commonly purchased and eaten at bunsikjip (snack bars) as well as pojangmacha (street stalls). There are also dedicated restaurants for tteokbokki, where it is referred to as jeukseok tteokbokki (impromptu tteokbokki). It is also a popular home dish, as the garae-tteok can be purchased in pre-packaged, semi-dehydrated form.\\n\\nHistory\\nThe first record on tteok-bokki appears in Siuijeonseo, a 19th-century cookbook, where the dish was listed using the archaic spelling steokbokgi (ᄯᅥᆨ복기). According to the book, tteok-bokki was known by various names including tteokjjim (steamed rice cakes), tteok-japchae (stir-fried rice cakes), and tteok-jeongol (rice cakes hot pot). The royal court version was made from white tteok (rice cakes), sirloin, sesame oil, soy sauce, scallions, rock tripe, pine nuts, and toasted and ground sesame seeds, while the savory, soy sauce-based tteok-bokki was made in the head house of the Papyeong Yun clan, where high-quality soy sauce was brewed. In this version, ingredients such as short ribs were common. The name tteok-bokki also appears in the revised and enlarged edition of Joseon Yori Jebeop, where it is described as a soy sauce-based savory dish.\\nIt is believed that the spicy variant of tteok-bokki made with gochujang-based sauce first appeared in 1953. When Ma Bok-Lim participated in the opening of a Korean-Chinese restaurant, she accidentally dropped tteok, or rice cake, that was handed during the opening into jajangmyeon. Realizing that it tasted good, she developed the idea of seasoning tteok in the Korean chili sauce, gochujang. After that, she began selling it in Sindang, which now has since become the most common variant of tteok-bokki. Consequently, the district of Sindang is now famously known for tteok-boki.\\nToday, the typical tteok-bokki purchased and eaten at bunsikjip (snack bars) and pojangmacha (street stalls) are red and spicy, while the soy sauce-based, non-spicy version is referred to as gungjung-tteok-bokki (궁중떡볶이; \"royal court tteok-bokki\"). Rice tteok rose in popularity as the South Korean economy developed, and various versions of the dish have proliferated since.  As it was once a working-class dish, wheat tteok was often substituted for rice tteok.\\nIt is well known as Korea\\'s representative street food, but these days, in the process of globalizing Korean food, luxury and diversification are taking place, and branding based on know-how in cooking is also taking place. More and more stores around the world are selling tteokbokki directly, such as selling Korean red pepper paste tteokbokki for the first time in an American football stadium at the home of the NFL\\'s Houston Texans.\\n\\nCalories\\nThe basic tteokbokki is about 260 kcal per serving. Bizarre tteokbokki is about 1500 kcal per serving, and Yeopddeok Roje tteokbokki is about 2,600 kcal per serving. In addition, Shinjeon tteokbokki is about 490 kcal per serving, and emergency room tteokbokki is about 2,600 kcal per serving. Baetteok-roje tteokbokki is about 2500 kcal per serving.\\n\\nVarieties\\nLike other popular Korean dishes, tteok-bokki has seen numerous variations and fusions. Boiled eggs and pan-fried mandu (dumplings) were traditionally added to tteok-bokki. Ingredients such as seafood, short ribs, instant noodles, chewy noodles are also common additions to the dish.\\n\\nVariations based on added ingredients\\nHaemul-tteok-bokki, (해물떡볶이; \"seafood tteok-bokki\") features seafood as its secondary ingredient.\\nGalbi-tteok-bokki (갈비떡볶이; \"short rib tteok-bokki\") features short ribs as its secondary ingredient.\\nRa-bokki (라볶이; \"instant noodle tteok-bokki\") and jol-bokki (쫄볶이; \"chewy noodle tteok-bokki\") are similar variants which add noodles to tteok-bokki. Ra-bokki adds ramyeon (ramen) noodles, and jjol-bokki adds chewy jjolmyeon wheat noodles.\\n\\nJeukseok-tteok-bokki\\nJeongol (hot pot)-type tteok-bokki is called jeukseok-tteok-bokki (즉석떡볶이; \"on-the-spot tteok-bokki\"), and is boiled on a table-top stove during the meal. A variety of additions, such as vegetables, mandu (dumplings), and ramyeon or udong noodles are available at jeukseok-tteok-bokki restaurants. As jeukseok-tteok-bokki is usually a meal rather than a snack, it is often paired with bokkeum-bap (fried rice).\\n\\nVariation based on sauce\\nGochujang tteokbokki\\nPiquant, red gochujang-based tteok-bokki is one of Korea\\'s most popular snacks. While both soup-style gungmul-tteok-bokki (국물떡볶이; \"soup tteok-bokki\") and dry gireum-tteok-bokki (기름떡볶이; \"oil tteok-bokki\") are commonly enjoyed, the former is considered the de facto standard style. In gungmul-tteok-bokki, kelp-anchovy stock is often used to bring out the savory flavor. Gochugaru (chili powder) is often added for additional heat and color, while mullyeot (rice syrup) helps with sweetness and consistency. Eomuk (fish cakes), boiled eggs, and diagonally sliced scallions are common additions to the dish. In gireum-tteok-bokki, the mixture of gochugaru (고춧가루; \"Korean chili powder\"), soy sauce, sugar or syrup, and sesame oil often replaces gochujang (chili paste). Soft tteok sticks are seasoned with the sauce mixture, then stir-fried in cooking oil with a handful of chopped scallions and served. Tongin Market in Jongno, Seoul is famous for its gireum-tteok-bokki.\\nThere are also many variations in gochujang tteok-bokki, such as a version that is seasoned with perilla leaf.\\n\\nGungjung tteokbokki\\nSweet and savory, brown soy sauce-based tteok-bokki is often referred to as gungjung-tteok-bokki (궁중떡볶이; \"royal court tteok-bokki\"). Its history dates back to a royal court dish before the introduction of chili pepper to the Korean peninsula in the mid-Joseon era (17th & 18th centuries). The earliest record of gungjung tteok-bokki is found in an 1800s cookbook called Siuijeonseo. Having a taste similar to japchae (stir-fried glass noodles and vegetables), it was enjoyed by the royals as a banchan and as a snack. Although traditional tteok-bokki was made with soup soy sauce, which is the traditional (and at the time, the only) type of soy sauce in pre-modern Korea, sweeter regular soy sauce has taken its place in modern times. Other traditional ingredients such as sirloin or short ribs, sesame oil, scallions, rock tripe, pine nuts, and toasted and ground sesame seeds are still commonly used in modern gungjung-tteok-bokki. Other ingredients such as mung bean sprouts, carrots, onions, dried Korean zucchini, garlic, and shiitake mushrooms are also common. The dish is typically served with egg garnish.\\n\\nOther variations\\nGungmul (soup) tteok-bokki that are not based on either soy sauce or gochujang have also gained in popularity. There are some well-known variations.\\nCurry tteok-bokki uses a yellow Korean-style curry base.\\nCream sauce tteok-bokki uses a base inspired by carbonara. Cream sauce and bacon are used instead of gochujang and fish cakes.\\nRose tteok-bokki  named after rose pasta, as a variation. For this tteok-bokki, cream sauce is added to the basic tteok-bokki.\\nMala tteok-bokki is a fusion tteok-bokki dish that uses a base inspired by Chinese malatang. This variation may include mala sauce, wide glass noodles, and bok choy in addition to traditional tteok-bokki ingredients.\\nJajang-tteok-bokki features a sauce based on jajang (sweet bean paste).\\nCheese tteok-bokki is a variant in which the tteok-bokki is either topped or stuffed with cheese. It is sold in snack bars and can also easily be made at home. Depending on personal preference, it can be eaten with seasonings such as green tea powder, herb powder, sesame, or parsley.\\nOutside of Korea, Shanghainese chǎo niángāo (炒年糕) is a stir-fried dish made with tteok-like rice cakes sliced into flat oval shapes, scallions, beef, pork and cabbage.\\n\\nGireum and gyeran tteok-bokki\\nGireum tteok-bokki (기름떡볶이; \"oil tteok-bokki\") is a variety of tteok-bokki that is stir-fried in oil and served with little or no sauce.\\nGyeran tteok-bokki (계란떡볶이; \"egg tteok-bokki\") is another variation that features no sauce. Only tteok (rice cakes), eggs, vegetables, and seasonings (primarily salt) are used. It differs from gireum tteok-bokki in that it is not spicy.\\n\\nGallery\\nSee also\\nBunsik\\nGimbap\\nKorean cuisine\\nKorean royal court cuisine\\nRice cake\\nSundae\\nDeep frying\\nNian gao\\n\\nReferences\\nExternal links\\nOfficial website of Dongdaemoon Yeopgi Tteokbokki\\nOfficial website of Sinjeon Tteokbokki\\nOfficial website of BaeDDuck',\n",
       " 'Samgye-tang (삼계탕; 蔘鷄湯), or ginseng chicken soup, meaning ginseng (Kor. sam) - chicken (Kor. gye) - soup (Kor. tang) in Korean, consists primarily of a whole young chicken (poussin) or quail filled with garlic, rice, jujube and ginseng. Samgye-tang is a Korean traditional soup for body health. Samgye-tang is a representative summer health food. Soup made with chicken that is slightly larger than the chick is called Yeonggye Baeksuk, and the chicken is divided into half is called Banggye-tang.\\n\\nHistory\\nDuring the Joseon period (1392-1897), people enjoyed the numerous chicken soup dishes that were similar to Samgye-tang, including Yeongye-tang, Chonggye-tang, and Hwanggye-tang. While it was the custom to make a soup with young chicken and serve it to elders during the summer days, the chicken boiled with milkvetch roots and its broth were served to the sick queen during King Injo\\'s reign. However, the description of the dish that most closely resembles today\\'s form of Samgye-tang can be found in Joseon Yorijaebeop (Korean: 조선 요리제법; Hanja: 朝鮮料理製法), the cookbook Shinyoung Bang, the professor of Ewha Womans University, wrote in 1917 to compile the information on how to make various traditional dishes of Joseon. In the book, it is described that Dakguk (닭국), or chicken soup, is made by gutting a chicken and stuffing the inside with three spoons of glutinous rice and one spoon of ginseng powder, followed by tying up the opening and boiling the chicken with ten bowls of water. During the Japanese colonial era, the Japanese officials who investigated the cultures of former Joseon noted that rich families boiled the chicken stuffed with ginseng and used the broth as medicine in summer.\\nThe dish began to be commercially sold at restaurants around 1940s and under the name Gyesam-tang (Korean: 계삼탕; Hanja: 鷄蔘湯) in 1950s, which meant chicken ginseng soup. With the supplying of modern refrigerators in Korea,  it became possible to preserve a ginseng as whole instead of powder. Thus, since 1960s, it became more common to stuff the chicken with a whole piece of ginseng instead of powder, reaching today\\'s form of the dish. To emphasize the medicinal effects of the ginseng in the soup, many people since then have started calling the dish Samgye-tang (ginseng chicken soup) instead of Gyesam-tang (chicken ginseng soup).\\n\\nCustom\\nIt is the custom in Korea to eat Samgye-tang during hot summer days in order to replenish the nutrients that were lost through the sweating and physical activities. It is especially popular to eat this chicken soup on sambok (삼복) days, which are three distinct days of the lunar calendar—Chobok (초복), Jungbok (중복), and Malbok (말복)—commonly among the hottest and most sultry summer days in Korea.\\nSome specialty restaurants in South Korea serve only samgyetang, having gained local popularity through their special recipes for the dish, which are often kept as secrets. The dish is sometimes accompanied by a small complimentary bottle of insam-ju (ginseng wine) in certain restaurants.\\n\\nGallery\\nSee also\\nBaeksuk\\nDak-bokkeum-tang\\nOri-tang\\nList of chicken dishes\\nList of soups\\nList of Korean dishes\\n\\nReferences\\nExternal links\\nKim Yeong-bok (김영복) / Yeo Gyeong-mo (여경모) (2007-07-12). \"Samgyetang Story 1 (삼계탕 이야기 (상))\" (in Korean). idomin.com.\\nKim Yeong-bok (김영복) / Yeo Gyeong-mo (여경모) (2007-07-26). \"Samgyetang Story 2 (삼계탕 이야기 (하))\" (in Korean). idomin.com.']"
      ]
     },
     "execution_count": 3,
     "metadata": {},
     "output_type": "execute_result"
    }
   ],
   "source": [
    "cuisine_docs"
   ]
  },
  {
   "cell_type": "markdown",
   "metadata": {},
   "source": [
    "### Vectorization Using gensim"
   ]
  },
  {
   "cell_type": "code",
   "execution_count": 4,
   "metadata": {},
   "outputs": [],
   "source": [
    "from gensim import corpora\n",
    "import spacy\n",
    "nlp = spacy.load('en_core_web_lg')"
   ]
  },
  {
   "cell_type": "code",
   "execution_count": 5,
   "metadata": {},
   "outputs": [
    {
     "name": "stdout",
     "output_type": "stream",
     "text": [
      "10 [97, 1225, 472, 766, 165, 203, 510, 3128, 1003, 354]\n",
      "['Bulalô', 'Tagalog'] , ...,  ['=', '=']\n",
      "['Pancit', 'Tagalog'] , ...,  ['report', 'Pancit']\n",
      "['Pinakbet', 'call'] , ...,  ['original', 'pinakbet']\n",
      "['Puto', 'Filipino'] , ...,  ['=', '=']\n",
      "['Tinola', 'filipino'] , ...,  ['=', '=']\n",
      "['Galbi', 'tang'] , ...,  ['Konglish', 'Kitchen']\n",
      "['Naengmyeon', '냉면'] , ...,  ['City', 'Tourism']\n",
      "['Kimchi', 'Korean'] , ...,  ['KJFC/2023.38.4.203', 'ISSN']\n",
      "['Tteokbokki', 'Korean'] , ...,  ['website', 'baedduck']\n",
      "['Samgye', 'tang'] , ...,  ['Korean', 'idomin.com']\n"
     ]
    }
   ],
   "source": [
    "cuisine_texts = []\n",
    "for document in cuisine_docs:\n",
    "    text = []\n",
    "    doc = nlp(document)\n",
    "    for w in doc:\n",
    "        if not w.is_stop and not w.is_punct and not w.like_num:\n",
    "            text.append(w.lemma_)\n",
    "    cuisine_texts.append(text)\n",
    "#texts is a mini-corpus specifically for toxic algal bloom\n",
    "\n",
    "print(len(cuisine_texts), [len(t) for t in cuisine_texts])\n",
    "for text in cuisine_texts:\n",
    "    print(text[:2], \", ..., \", text[-2:])"
   ]
  },
  {
   "cell_type": "markdown",
   "metadata": {},
   "source": [
    "### creating a BOW representation of the mini-corpus"
   ]
  },
  {
   "cell_type": "code",
   "execution_count": 6,
   "metadata": {},
   "outputs": [
    {
     "name": "stdout",
     "output_type": "stream",
     "text": [
      "2527 {'\\n': 0, '\\n\\n': 1, '\\n\\n\\n': 2, '\\n ': 3, '=': 4, 'Batangas': 5, 'Bulalo': 6, 'Bulalô': 7, 'Cansi': 8, 'Cavite': 9}\n"
     ]
    }
   ],
   "source": [
    "import itertools\n",
    "cuisine_dictionary = corpora.Dictionary(cuisine_texts)\n",
    "print(len(cuisine_dictionary.token2id), \n",
    "      dict(itertools.islice(cuisine_dictionary.token2id.items(), 10))\n",
    ")"
   ]
  },
  {
   "cell_type": "markdown",
   "metadata": {},
   "source": [
    "### Using the doc2bow method, which, as the name suggests, helps convert our document to bag-of-words."
   ]
  },
  {
   "cell_type": "code",
   "execution_count": 7,
   "metadata": {},
   "outputs": [
    {
     "data": {
      "text/plain": [
       "[[(0, 5), (1, 2), (2, 1), (3, 1), (4, 4)],\n",
       " [(0, 53), (1, 9), (5, 2), (9, 4), (13, 2)],\n",
       " [(0, 20), (1, 8), (16, 1), (18, 1), (22, 7)],\n",
       " [(0, 26), (1, 6), (2, 1), (4, 4), (5, 1)],\n",
       " [(0, 10), (1, 4), (2, 1), (3, 1), (4, 4)],\n",
       " [(0, 11), (1, 4), (24, 5), (25, 2), (32, 1)],\n",
       " [(0, 19), (1, 7), (22, 7), (24, 4), (26, 12)],\n",
       " [(0, 101), (1, 43), (17, 1), (22, 7), (28, 24)],\n",
       " [(0, 38), (1, 11), (22, 7), (24, 1), (28, 1)],\n",
       " [(0, 14), (1, 4), (26, 2), (40, 10), (41, 2)]]"
      ]
     },
     "execution_count": 7,
     "metadata": {},
     "output_type": "execute_result"
    }
   ],
   "source": [
    "cuisine_corpus = [cuisine_dictionary.doc2bow(text) for text in cuisine_texts]\n",
    "[c[:5] for c in cuisine_corpus]"
   ]
  },
  {
   "cell_type": "code",
   "execution_count": 8,
   "metadata": {},
   "outputs": [],
   "source": [
    "corpora.MmCorpus.serialize('cuisine_corpus.mm', cuisine_corpus)"
   ]
  },
  {
   "cell_type": "markdown",
   "metadata": {},
   "source": [
    "### Converting Bag-of-Words to TF-IDF representation"
   ]
  },
  {
   "cell_type": "code",
   "execution_count": 9,
   "metadata": {},
   "outputs": [
    {
     "name": "stdout",
     "output_type": "stream",
     "text": [
      "76 [(2, 0.08184134375014518), (3, 0.10940326971071415), (4, 0.3273653750005807), (5, 0.08184134375014518), (6, 0.31304138670339926)]\n",
      "542 [(5, 0.015507018211663953), (9, 0.0414587155606574), (13, 0.0207293577803287), (15, 0.0207293577803287), (16, 0.023603418640849652)]\n",
      "270 [(16, 0.019170520681388664), (18, 0.019170520681388664), (22, 0.032680071309316286), (25, 0.025189369205940868), (26, 0.03206229042050645)]\n",
      "359 [(2, 0.011573466500680552), (4, 0.04629386600272221), (5, 0.011573466500680552), (10, 0.015471093447920367), (16, 0.017616112344276402)]\n",
      "112 [(2, 0.05754150903267711), (3, 0.07691991533621784), (4, 0.23016603613070843), (14, 0.07691991533621784), (22, 0.010664706567619642)]\n",
      "126 [(24, 0.09252192382918818), (25, 0.08722654065238349), (32, 0.058301026813897795), (37, 0.012920358909010712), (39, 0.012920358909010712)]\n",
      "278 [(22, 0.02022940310052092), (24, 0.026462651243052634), (26, 0.0793879537291579), (36, 0.004619269379539696), (39, 0.013857808138619088)]\n",
      "1281 [(17, 0.004734696560949982), (22, 0.004595156469163705), (28, 0.06469376982139471), (31, 0.0053911474851162265), (36, 0.0052463894922473156)]\n",
      "388 [(22, 0.006591182396908467), (24, 0.002155527775362846), (28, 0.00386646642410225), (31, 0.00386646642410225), (36, 0.006020236359859045)]\n",
      "196 [(26, 0.020196327966661987), (41, 0.008822345897143091), (42, 0.007050864140457989), (46, 0.007050864140457989), (48, 0.004411172948571546)]\n"
     ]
    }
   ],
   "source": [
    "from gensim import models\n",
    "tfidf = models.TfidfModel(cuisine_corpus)\n",
    "\n",
    "for document_tfidf in tfidf[cuisine_corpus]:\n",
    "       print(len(document_tfidf), document_tfidf[:5])\n"
   ]
  },
  {
   "cell_type": "markdown",
   "metadata": {},
   "source": [
    "### How to calculate TF-IDF similarity matrix of a complete corpus with Gensim  \n",
    "Reference: https://gist.github.com/clemsos/7692685"
   ]
  },
  {
   "cell_type": "code",
   "execution_count": 10,
   "metadata": {},
   "outputs": [],
   "source": [
    "from gensim import similarities\n",
    "index = similarities.MatrixSimilarity(tfidf[cuisine_corpus])"
   ]
  },
  {
   "cell_type": "code",
   "execution_count": 11,
   "metadata": {},
   "outputs": [
    {
     "data": {
      "text/plain": [
       "((10, 10),\n",
       " array([[0.9999998 , 0.03467939, 0.026189  , 0.03617153, 0.13150124,\n",
       "         0.03280932, 0.00863954, 0.01353108, 0.00709184, 0.00180953],\n",
       "        [0.03467939, 0.9999989 , 0.04512652, 0.04771957, 0.03783636,\n",
       "         0.0102828 , 0.08324036, 0.018296  , 0.03259591, 0.01627045],\n",
       "        [0.026189  , 0.04512652, 0.9999993 , 0.02929128, 0.06412444,\n",
       "         0.03668907, 0.01728226, 0.04288221, 0.01403196, 0.00667407],\n",
       "        [0.03617153, 0.04771957, 0.02929128, 1.        , 0.03495439,\n",
       "         0.00403794, 0.01046357, 0.01371551, 0.01613122, 0.00893704],\n",
       "        [0.13150124, 0.03783636, 0.06412444, 0.03495439, 0.9999999 ,\n",
       "         0.00954741, 0.01267136, 0.01404139, 0.00579607, 0.04288141],\n",
       "        [0.03280932, 0.0102828 , 0.03668907, 0.00403794, 0.00954741,\n",
       "         1.0000002 , 0.02801573, 0.04393926, 0.04925059, 0.10432199],\n",
       "        [0.00863954, 0.08324036, 0.01728226, 0.01046357, 0.01267136,\n",
       "         0.02801573, 0.9999988 , 0.0663815 , 0.02264052, 0.02897182],\n",
       "        [0.01353108, 0.018296  , 0.04288221, 0.01371551, 0.01404139,\n",
       "         0.04393926, 0.0663815 , 1.0000007 , 0.01595274, 0.02718237],\n",
       "        [0.00709184, 0.03259591, 0.01403196, 0.01613122, 0.00579607,\n",
       "         0.04925059, 0.02264052, 0.01595274, 1.0000002 , 0.01150777],\n",
       "        [0.00180953, 0.01627045, 0.00667407, 0.00893704, 0.04288141,\n",
       "         0.10432199, 0.02897182, 0.02718237, 0.01150777, 1.0000004 ]],\n",
       "       dtype=float32))"
      ]
     },
     "execution_count": 11,
     "metadata": {},
     "output_type": "execute_result"
    }
   ],
   "source": [
    "sims = index[tfidf[cuisine_corpus]]\n",
    "sims.shape, sims"
   ]
  },
  {
   "cell_type": "markdown",
   "metadata": {},
   "source": [
    "This matrix is symmetric, with elements mirrored across the main diagonal.  \n",
    "The main diagonal values are Self-Compared Values."
   ]
  },
  {
   "cell_type": "markdown",
   "metadata": {},
   "source": [
    "### To create a heatmap of cuisine similarities"
   ]
  },
  {
   "cell_type": "code",
   "execution_count": 12,
   "metadata": {},
   "outputs": [],
   "source": [
    "# https://matplotlib.org/stable/gallery/images_contours_and_fields/image_annotated_heatmap.html\n",
    "\n",
    "import matplotlib.pyplot as plt\n",
    "import numpy as np\n",
    "\n",
    "import matplotlib\n",
    "import matplotlib as mpl\n"
   ]
  },
  {
   "cell_type": "markdown",
   "metadata": {},
   "source": [
    "### To get the lower triangle of a matrix as percentage values\n",
    "Removing Duplicate Values  \n",
    "Removing Self-Compared Values  \n",
    "Tranform to percentage values"
   ]
  },
  {
   "cell_type": "code",
   "execution_count": 13,
   "metadata": {},
   "outputs": [
    {
     "data": {
      "text/plain": [
       "array([[ 0. ,  0. ,  0. ,  0. ,  0. ,  0. ,  0. ,  0. ,  0. ,  0. ],\n",
       "       [ 3.5,  0. ,  0. ,  0. ,  0. ,  0. ,  0. ,  0. ,  0. ,  0. ],\n",
       "       [ 2.6,  4.5,  0. ,  0. ,  0. ,  0. ,  0. ,  0. ,  0. ,  0. ],\n",
       "       [ 3.6,  4.8,  2.9,  0. ,  0. ,  0. ,  0. ,  0. ,  0. ,  0. ],\n",
       "       [13.2,  3.8,  6.4,  3.5,  0. ,  0. ,  0. ,  0. ,  0. ,  0. ],\n",
       "       [ 3.3,  1. ,  3.7,  0.4,  1. ,  0. ,  0. ,  0. ,  0. ,  0. ],\n",
       "       [ 0.9,  8.3,  1.7,  1. ,  1.3,  2.8,  0. ,  0. ,  0. ,  0. ],\n",
       "       [ 1.4,  1.8,  4.3,  1.4,  1.4,  4.4,  6.6,  0. ,  0. ,  0. ],\n",
       "       [ 0.7,  3.3,  1.4,  1.6,  0.6,  4.9,  2.3,  1.6,  0. ,  0. ],\n",
       "       [ 0.2,  1.6,  0.7,  0.9,  4.3, 10.4,  2.9,  2.7,  1.2,  0. ]],\n",
       "      dtype=float32)"
      ]
     },
     "execution_count": 13,
     "metadata": {},
     "output_type": "execute_result"
    }
   ],
   "source": [
    "sims_heatmap = np.round(np.tril(sims, k=-1)*100, 1)\n",
    "sims_heatmap"
   ]
  },
  {
   "cell_type": "code",
   "execution_count": 14,
   "metadata": {},
   "outputs": [
    {
     "data": {
      "image/png": "[encoded data removed]",
      "text/plain": [
       "<Figure size 1000x1000 with 1 Axes>"
      ]
     },
     "metadata": {},
     "output_type": "display_data"
    },
    {
     "data": {
      "text/plain": [
       "<Figure size 500x300 with 0 Axes>"
      ]
     },
     "metadata": {},
     "output_type": "display_data"
    }
   ],
   "source": [
    "\n",
    "fig, ax = plt.subplots(figsize=sims_heatmap.shape)\n",
    "im = ax.imshow(sims_heatmap)\n",
    "\n",
    "# Show all ticks and label them with the respective list entries\n",
    "ax.set_xticks(np.arange(len(pages)), labels=pages)\n",
    "ax.set_yticks(np.arange(len(pages)), labels=pages)\n",
    "\n",
    "# Rotate the tick labels and set their alignment.\n",
    "plt.setp(ax.get_xticklabels(), rotation=45, ha=\"right\",\n",
    "         rotation_mode=\"anchor\")\n",
    "\n",
    "# Loop over data dimensions and create text annotations.\n",
    "for i in range(len(pages)):\n",
    "    for j in range(len(pages)):\n",
    "        if i > j:\n",
    "            text = ax.text(j, i, sims_heatmap[i, j],\n",
    "                        ha=\"center\", va=\"center\", color=\"w\")\n",
    "\n",
    "ax.set_title(\"Cosine Similarities\")\n",
    "fig.tight_layout()\n",
    "plt.figure(figsize=(5,3))\n",
    "plt.show()\n"
   ]
  },
  {
   "cell_type": "markdown",
   "metadata": {},
   "source": []
  },
  {
   "cell_type": "markdown",
   "metadata": {},
   "source": [
    "## NMF"
   ]
  },
  {
   "cell_type": "code",
   "execution_count": 15,
   "metadata": {},
   "outputs": [
    {
     "data": {
      "text/html": [
       "<div>\n",
       "<style scoped>\n",
       "    .dataframe tbody tr th:only-of-type {\n",
       "        vertical-align: middle;\n",
       "    }\n",
       "\n",
       "    .dataframe tbody tr th {\n",
       "        vertical-align: top;\n",
       "    }\n",
       "\n",
       "    .dataframe thead th {\n",
       "        text-align: right;\n",
       "    }\n",
       "</style>\n",
       "<table border=\"1\" class=\"dataframe\">\n",
       "  <thead>\n",
       "    <tr style=\"text-align: right;\">\n",
       "      <th></th>\n",
       "      <th>Cuisine</th>\n",
       "    </tr>\n",
       "  </thead>\n",
       "  <tbody>\n",
       "    <tr>\n",
       "      <th>0</th>\n",
       "      <td>Bulalô (Tagalog: [bʊˈlɐlɔʔ]) is a beef dish fr...</td>\n",
       "    </tr>\n",
       "    <tr>\n",
       "      <th>1</th>\n",
       "      <td>Pancit (Tagalog pronunciation: [panˈsɪt] pan-S...</td>\n",
       "    </tr>\n",
       "    <tr>\n",
       "      <th>2</th>\n",
       "      <td>Pinakbet (also called pakbet) is an indigenous...</td>\n",
       "    </tr>\n",
       "    <tr>\n",
       "      <th>3</th>\n",
       "      <td>Puto is a Filipino steamed rice cake, traditio...</td>\n",
       "    </tr>\n",
       "    <tr>\n",
       "      <th>4</th>\n",
       "      <td>Tinola is a Filipino soup usually served as a ...</td>\n",
       "    </tr>\n",
       "  </tbody>\n",
       "</table>\n",
       "</div>"
      ],
      "text/plain": [
       "                                             Cuisine\n",
       "0  Bulalô (Tagalog: [bʊˈlɐlɔʔ]) is a beef dish fr...\n",
       "1  Pancit (Tagalog pronunciation: [panˈsɪt] pan-S...\n",
       "2  Pinakbet (also called pakbet) is an indigenous...\n",
       "3  Puto is a Filipino steamed rice cake, traditio...\n",
       "4  Tinola is a Filipino soup usually served as a ..."
      ]
     },
     "execution_count": 15,
     "metadata": {},
     "output_type": "execute_result"
    }
   ],
   "source": [
    "import pandas as pd\n",
    "df_cuisine = pd.DataFrame(cuisine_docs, columns=['Cuisine'])\n",
    "df_cuisine.head()"
   ]
  },
  {
   "cell_type": "code",
   "execution_count": 16,
   "metadata": {},
   "outputs": [],
   "source": [
    "from sklearn.feature_extraction.text import TfidfVectorizer\n",
    "tfidf = TfidfVectorizer(max_df=0.95, min_df=2, stop_words='english')\n",
    "tfidf_cuisine = tfidf.fit_transform(df_cuisine['Cuisine'])\n",
    "\n"
   ]
  },
  {
   "cell_type": "code",
   "execution_count": 17,
   "metadata": {},
   "outputs": [
    {
     "data": {
      "text/plain": [
       "(<10x568 sparse matrix of type '<class 'numpy.float64'>'\n",
       " \twith 1697 stored elements in Compressed Sparse Row format>,\n",
       " (10, 568))"
      ]
     },
     "execution_count": 17,
     "metadata": {},
     "output_type": "execute_result"
    }
   ],
   "source": [
    "tfidf_cuisine, tfidf_cuisine.shape"
   ]
  },
  {
   "cell_type": "code",
   "execution_count": 18,
   "metadata": {},
   "outputs": [
    {
     "data": {
      "text/plain": [
       "(array(['12', '1392', '15', '1897', '18th', '1960s', '19th', '2020', '24',\n",
       "        '918', 'according', 'activities', 'add', 'added', 'adding',\n",
       "        'addition', 'additional', 'adds', 'adopted', 'alternative'],\n",
       "       dtype=object),\n",
       " array(['visayas', 'war', 'water', 'western', 'wheat', 'white', 'wide',\n",
       "        'widely', 'wine', 'winter', 'woman', 'wood', 'word', 'world',\n",
       "        'wrapped', 'wrote', 'year', 'yellow', 'yeolmu', 'young'],\n",
       "       dtype=object),\n",
       " 568)"
      ]
     },
     "execution_count": 18,
     "metadata": {},
     "output_type": "execute_result"
    }
   ],
   "source": [
    "\n",
    "tfidf.get_feature_names_out()[:20], tfidf.get_feature_names_out()[-20:], len(tfidf.get_feature_names_out()), "
   ]
  },
  {
   "cell_type": "code",
   "execution_count": 19,
   "metadata": {},
   "outputs": [
    {
     "data": {
      "text/html": [
       "<style>#sk-container-id-1 {\n",
       "  /* Definition of color scheme common for light and dark mode */\n",
       "  --sklearn-color-text: black;\n",
       "  --sklearn-color-line: gray;\n",
       "  /* Definition of color scheme for unfitted estimators */\n",
       "  --sklearn-color-unfitted-level-0: #fff5e6;\n",
       "  --sklearn-color-unfitted-level-1: #f6e4d2;\n",
       "  --sklearn-color-unfitted-level-2: #ffe0b3;\n",
       "  --sklearn-color-unfitted-level-3: chocolate;\n",
       "  /* Definition of color scheme for fitted estimators */\n",
       "  --sklearn-color-fitted-level-0: #f0f8ff;\n",
       "  --sklearn-color-fitted-level-1: #d4ebff;\n",
       "  --sklearn-color-fitted-level-2: #b3dbfd;\n",
       "  --sklearn-color-fitted-level-3: cornflowerblue;\n",
       "\n",
       "  /* Specific color for light theme */\n",
       "  --sklearn-color-text-on-default-background: var(--sg-text-color, var(--theme-code-foreground, var(--jp-content-font-color1, black)));\n",
       "  --sklearn-color-background: var(--sg-background-color, var(--theme-background, var(--jp-layout-color0, white)));\n",
       "  --sklearn-color-border-box: var(--sg-text-color, var(--theme-code-foreground, var(--jp-content-font-color1, black)));\n",
       "  --sklearn-color-icon: #696969;\n",
       "\n",
       "  @media (prefers-color-scheme: dark) {\n",
       "    /* Redefinition of color scheme for dark theme */\n",
       "    --sklearn-color-text-on-default-background: var(--sg-text-color, var(--theme-code-foreground, var(--jp-content-font-color1, white)));\n",
       "    --sklearn-color-background: var(--sg-background-color, var(--theme-background, var(--jp-layout-color0, #111)));\n",
       "    --sklearn-color-border-box: var(--sg-text-color, var(--theme-code-foreground, var(--jp-content-font-color1, white)));\n",
       "    --sklearn-color-icon: #878787;\n",
       "  }\n",
       "}\n",
       "\n",
       "#sk-container-id-1 {\n",
       "  color: var(--sklearn-color-text);\n",
       "}\n",
       "\n",
       "#sk-container-id-1 pre {\n",
       "  padding: 0;\n",
       "}\n",
       "\n",
       "#sk-container-id-1 input.sk-hidden--visually {\n",
       "  border: 0;\n",
       "  clip: rect(1px 1px 1px 1px);\n",
       "  clip: rect(1px, 1px, 1px, 1px);\n",
       "  height: 1px;\n",
       "  margin: -1px;\n",
       "  overflow: hidden;\n",
       "  padding: 0;\n",
       "  position: absolute;\n",
       "  width: 1px;\n",
       "}\n",
       "\n",
       "#sk-container-id-1 div.sk-dashed-wrapped {\n",
       "  border: 1px dashed var(--sklearn-color-line);\n",
       "  margin: 0 0.4em 0.5em 0.4em;\n",
       "  box-sizing: border-box;\n",
       "  padding-bottom: 0.4em;\n",
       "  background-color: var(--sklearn-color-background);\n",
       "}\n",
       "\n",
       "#sk-container-id-1 div.sk-container {\n",
       "  /* jupyter's `normalize.less` sets `[hidden] { display: none; }`\n",
       "     but bootstrap.min.css set `[hidden] { display: none !important; }`\n",
       "     so we also need the `!important` here to be able to override the\n",
       "     default hidden behavior on the sphinx rendered scikit-learn.org.\n",
       "     See: https://github.com/scikit-learn/scikit-learn/issues/21755 */\n",
       "  display: inline-block !important;\n",
       "  position: relative;\n",
       "}\n",
       "\n",
       "#sk-container-id-1 div.sk-text-repr-fallback {\n",
       "  display: none;\n",
       "}\n",
       "\n",
       "div.sk-parallel-item,\n",
       "div.sk-serial,\n",
       "div.sk-item {\n",
       "  /* draw centered vertical line to link estimators */\n",
       "  background-image: linear-gradient(var(--sklearn-color-text-on-default-background), var(--sklearn-color-text-on-default-background));\n",
       "  background-size: 2px 100%;\n",
       "  background-repeat: no-repeat;\n",
       "  background-position: center center;\n",
       "}\n",
       "\n",
       "/* Parallel-specific style estimator block */\n",
       "\n",
       "#sk-container-id-1 div.sk-parallel-item::after {\n",
       "  content: \"\";\n",
       "  width: 100%;\n",
       "  border-bottom: 2px solid var(--sklearn-color-text-on-default-background);\n",
       "  flex-grow: 1;\n",
       "}\n",
       "\n",
       "#sk-container-id-1 div.sk-parallel {\n",
       "  display: flex;\n",
       "  align-items: stretch;\n",
       "  justify-content: center;\n",
       "  background-color: var(--sklearn-color-background);\n",
       "  position: relative;\n",
       "}\n",
       "\n",
       "#sk-container-id-1 div.sk-parallel-item {\n",
       "  display: flex;\n",
       "  flex-direction: column;\n",
       "}\n",
       "\n",
       "#sk-container-id-1 div.sk-parallel-item:first-child::after {\n",
       "  align-self: flex-end;\n",
       "  width: 50%;\n",
       "}\n",
       "\n",
       "#sk-container-id-1 div.sk-parallel-item:last-child::after {\n",
       "  align-self: flex-start;\n",
       "  width: 50%;\n",
       "}\n",
       "\n",
       "#sk-container-id-1 div.sk-parallel-item:only-child::after {\n",
       "  width: 0;\n",
       "}\n",
       "\n",
       "/* Serial-specific style estimator block */\n",
       "\n",
       "#sk-container-id-1 div.sk-serial {\n",
       "  display: flex;\n",
       "  flex-direction: column;\n",
       "  align-items: center;\n",
       "  background-color: var(--sklearn-color-background);\n",
       "  padding-right: 1em;\n",
       "  padding-left: 1em;\n",
       "}\n",
       "\n",
       "\n",
       "/* Toggleable style: style used for estimator/Pipeline/ColumnTransformer box that is\n",
       "clickable and can be expanded/collapsed.\n",
       "- Pipeline and ColumnTransformer use this feature and define the default style\n",
       "- Estimators will overwrite some part of the style using the `sk-estimator` class\n",
       "*/\n",
       "\n",
       "/* Pipeline and ColumnTransformer style (default) */\n",
       "\n",
       "#sk-container-id-1 div.sk-toggleable {\n",
       "  /* Default theme specific background. It is overwritten whether we have a\n",
       "  specific estimator or a Pipeline/ColumnTransformer */\n",
       "  background-color: var(--sklearn-color-background);\n",
       "}\n",
       "\n",
       "/* Toggleable label */\n",
       "#sk-container-id-1 label.sk-toggleable__label {\n",
       "  cursor: pointer;\n",
       "  display: block;\n",
       "  width: 100%;\n",
       "  margin-bottom: 0;\n",
       "  padding: 0.5em;\n",
       "  box-sizing: border-box;\n",
       "  text-align: center;\n",
       "}\n",
       "\n",
       "#sk-container-id-1 label.sk-toggleable__label-arrow:before {\n",
       "  /* Arrow on the left of the label */\n",
       "  content: \"▸\";\n",
       "  float: left;\n",
       "  margin-right: 0.25em;\n",
       "  color: var(--sklearn-color-icon);\n",
       "}\n",
       "\n",
       "#sk-container-id-1 label.sk-toggleable__label-arrow:hover:before {\n",
       "  color: var(--sklearn-color-text);\n",
       "}\n",
       "\n",
       "/* Toggleable content - dropdown */\n",
       "\n",
       "#sk-container-id-1 div.sk-toggleable__content {\n",
       "  max-height: 0;\n",
       "  max-width: 0;\n",
       "  overflow: hidden;\n",
       "  text-align: left;\n",
       "  /* unfitted */\n",
       "  background-color: var(--sklearn-color-unfitted-level-0);\n",
       "}\n",
       "\n",
       "#sk-container-id-1 div.sk-toggleable__content.fitted {\n",
       "  /* fitted */\n",
       "  background-color: var(--sklearn-color-fitted-level-0);\n",
       "}\n",
       "\n",
       "#sk-container-id-1 div.sk-toggleable__content pre {\n",
       "  margin: 0.2em;\n",
       "  border-radius: 0.25em;\n",
       "  color: var(--sklearn-color-text);\n",
       "  /* unfitted */\n",
       "  background-color: var(--sklearn-color-unfitted-level-0);\n",
       "}\n",
       "\n",
       "#sk-container-id-1 div.sk-toggleable__content.fitted pre {\n",
       "  /* unfitted */\n",
       "  background-color: var(--sklearn-color-fitted-level-0);\n",
       "}\n",
       "\n",
       "#sk-container-id-1 input.sk-toggleable__control:checked~div.sk-toggleable__content {\n",
       "  /* Expand drop-down */\n",
       "  max-height: 200px;\n",
       "  max-width: 100%;\n",
       "  overflow: auto;\n",
       "}\n",
       "\n",
       "#sk-container-id-1 input.sk-toggleable__control:checked~label.sk-toggleable__label-arrow:before {\n",
       "  content: \"▾\";\n",
       "}\n",
       "\n",
       "/* Pipeline/ColumnTransformer-specific style */\n",
       "\n",
       "#sk-container-id-1 div.sk-label input.sk-toggleable__control:checked~label.sk-toggleable__label {\n",
       "  color: var(--sklearn-color-text);\n",
       "  background-color: var(--sklearn-color-unfitted-level-2);\n",
       "}\n",
       "\n",
       "#sk-container-id-1 div.sk-label.fitted input.sk-toggleable__control:checked~label.sk-toggleable__label {\n",
       "  background-color: var(--sklearn-color-fitted-level-2);\n",
       "}\n",
       "\n",
       "/* Estimator-specific style */\n",
       "\n",
       "/* Colorize estimator box */\n",
       "#sk-container-id-1 div.sk-estimator input.sk-toggleable__control:checked~label.sk-toggleable__label {\n",
       "  /* unfitted */\n",
       "  background-color: var(--sklearn-color-unfitted-level-2);\n",
       "}\n",
       "\n",
       "#sk-container-id-1 div.sk-estimator.fitted input.sk-toggleable__control:checked~label.sk-toggleable__label {\n",
       "  /* fitted */\n",
       "  background-color: var(--sklearn-color-fitted-level-2);\n",
       "}\n",
       "\n",
       "#sk-container-id-1 div.sk-label label.sk-toggleable__label,\n",
       "#sk-container-id-1 div.sk-label label {\n",
       "  /* The background is the default theme color */\n",
       "  color: var(--sklearn-color-text-on-default-background);\n",
       "}\n",
       "\n",
       "/* On hover, darken the color of the background */\n",
       "#sk-container-id-1 div.sk-label:hover label.sk-toggleable__label {\n",
       "  color: var(--sklearn-color-text);\n",
       "  background-color: var(--sklearn-color-unfitted-level-2);\n",
       "}\n",
       "\n",
       "/* Label box, darken color on hover, fitted */\n",
       "#sk-container-id-1 div.sk-label.fitted:hover label.sk-toggleable__label.fitted {\n",
       "  color: var(--sklearn-color-text);\n",
       "  background-color: var(--sklearn-color-fitted-level-2);\n",
       "}\n",
       "\n",
       "/* Estimator label */\n",
       "\n",
       "#sk-container-id-1 div.sk-label label {\n",
       "  font-family: monospace;\n",
       "  font-weight: bold;\n",
       "  display: inline-block;\n",
       "  line-height: 1.2em;\n",
       "}\n",
       "\n",
       "#sk-container-id-1 div.sk-label-container {\n",
       "  text-align: center;\n",
       "}\n",
       "\n",
       "/* Estimator-specific */\n",
       "#sk-container-id-1 div.sk-estimator {\n",
       "  font-family: monospace;\n",
       "  border: 1px dotted var(--sklearn-color-border-box);\n",
       "  border-radius: 0.25em;\n",
       "  box-sizing: border-box;\n",
       "  margin-bottom: 0.5em;\n",
       "  /* unfitted */\n",
       "  background-color: var(--sklearn-color-unfitted-level-0);\n",
       "}\n",
       "\n",
       "#sk-container-id-1 div.sk-estimator.fitted {\n",
       "  /* fitted */\n",
       "  background-color: var(--sklearn-color-fitted-level-0);\n",
       "}\n",
       "\n",
       "/* on hover */\n",
       "#sk-container-id-1 div.sk-estimator:hover {\n",
       "  /* unfitted */\n",
       "  background-color: var(--sklearn-color-unfitted-level-2);\n",
       "}\n",
       "\n",
       "#sk-container-id-1 div.sk-estimator.fitted:hover {\n",
       "  /* fitted */\n",
       "  background-color: var(--sklearn-color-fitted-level-2);\n",
       "}\n",
       "\n",
       "/* Specification for estimator info (e.g. \"i\" and \"?\") */\n",
       "\n",
       "/* Common style for \"i\" and \"?\" */\n",
       "\n",
       ".sk-estimator-doc-link,\n",
       "a:link.sk-estimator-doc-link,\n",
       "a:visited.sk-estimator-doc-link {\n",
       "  float: right;\n",
       "  font-size: smaller;\n",
       "  line-height: 1em;\n",
       "  font-family: monospace;\n",
       "  background-color: var(--sklearn-color-background);\n",
       "  border-radius: 1em;\n",
       "  height: 1em;\n",
       "  width: 1em;\n",
       "  text-decoration: none !important;\n",
       "  margin-left: 1ex;\n",
       "  /* unfitted */\n",
       "  border: var(--sklearn-color-unfitted-level-1) 1pt solid;\n",
       "  color: var(--sklearn-color-unfitted-level-1);\n",
       "}\n",
       "\n",
       ".sk-estimator-doc-link.fitted,\n",
       "a:link.sk-estimator-doc-link.fitted,\n",
       "a:visited.sk-estimator-doc-link.fitted {\n",
       "  /* fitted */\n",
       "  border: var(--sklearn-color-fitted-level-1) 1pt solid;\n",
       "  color: var(--sklearn-color-fitted-level-1);\n",
       "}\n",
       "\n",
       "/* On hover */\n",
       "div.sk-estimator:hover .sk-estimator-doc-link:hover,\n",
       ".sk-estimator-doc-link:hover,\n",
       "div.sk-label-container:hover .sk-estimator-doc-link:hover,\n",
       ".sk-estimator-doc-link:hover {\n",
       "  /* unfitted */\n",
       "  background-color: var(--sklearn-color-unfitted-level-3);\n",
       "  color: var(--sklearn-color-background);\n",
       "  text-decoration: none;\n",
       "}\n",
       "\n",
       "div.sk-estimator.fitted:hover .sk-estimator-doc-link.fitted:hover,\n",
       ".sk-estimator-doc-link.fitted:hover,\n",
       "div.sk-label-container:hover .sk-estimator-doc-link.fitted:hover,\n",
       ".sk-estimator-doc-link.fitted:hover {\n",
       "  /* fitted */\n",
       "  background-color: var(--sklearn-color-fitted-level-3);\n",
       "  color: var(--sklearn-color-background);\n",
       "  text-decoration: none;\n",
       "}\n",
       "\n",
       "/* Span, style for the box shown on hovering the info icon */\n",
       ".sk-estimator-doc-link span {\n",
       "  display: none;\n",
       "  z-index: 9999;\n",
       "  position: relative;\n",
       "  font-weight: normal;\n",
       "  right: .2ex;\n",
       "  padding: .5ex;\n",
       "  margin: .5ex;\n",
       "  width: min-content;\n",
       "  min-width: 20ex;\n",
       "  max-width: 50ex;\n",
       "  color: var(--sklearn-color-text);\n",
       "  box-shadow: 2pt 2pt 4pt #999;\n",
       "  /* unfitted */\n",
       "  background: var(--sklearn-color-unfitted-level-0);\n",
       "  border: .5pt solid var(--sklearn-color-unfitted-level-3);\n",
       "}\n",
       "\n",
       ".sk-estimator-doc-link.fitted span {\n",
       "  /* fitted */\n",
       "  background: var(--sklearn-color-fitted-level-0);\n",
       "  border: var(--sklearn-color-fitted-level-3);\n",
       "}\n",
       "\n",
       ".sk-estimator-doc-link:hover span {\n",
       "  display: block;\n",
       "}\n",
       "\n",
       "/* \"?\"-specific style due to the `<a>` HTML tag */\n",
       "\n",
       "#sk-container-id-1 a.estimator_doc_link {\n",
       "  float: right;\n",
       "  font-size: 1rem;\n",
       "  line-height: 1em;\n",
       "  font-family: monospace;\n",
       "  background-color: var(--sklearn-color-background);\n",
       "  border-radius: 1rem;\n",
       "  height: 1rem;\n",
       "  width: 1rem;\n",
       "  text-decoration: none;\n",
       "  /* unfitted */\n",
       "  color: var(--sklearn-color-unfitted-level-1);\n",
       "  border: var(--sklearn-color-unfitted-level-1) 1pt solid;\n",
       "}\n",
       "\n",
       "#sk-container-id-1 a.estimator_doc_link.fitted {\n",
       "  /* fitted */\n",
       "  border: var(--sklearn-color-fitted-level-1) 1pt solid;\n",
       "  color: var(--sklearn-color-fitted-level-1);\n",
       "}\n",
       "\n",
       "/* On hover */\n",
       "#sk-container-id-1 a.estimator_doc_link:hover {\n",
       "  /* unfitted */\n",
       "  background-color: var(--sklearn-color-unfitted-level-3);\n",
       "  color: var(--sklearn-color-background);\n",
       "  text-decoration: none;\n",
       "}\n",
       "\n",
       "#sk-container-id-1 a.estimator_doc_link.fitted:hover {\n",
       "  /* fitted */\n",
       "  background-color: var(--sklearn-color-fitted-level-3);\n",
       "}\n",
       "</style><div id=\"sk-container-id-1\" class=\"sk-top-container\"><div class=\"sk-text-repr-fallback\"><pre>NMF(n_components=4, random_state=42)</pre><b>In a Jupyter environment, please rerun this cell to show the HTML representation or trust the notebook. <br />On GitHub, the HTML representation is unable to render, please try loading this page with nbviewer.org.</b></div><div class=\"sk-container\" hidden><div class=\"sk-item\"><div class=\"sk-estimator fitted sk-toggleable\"><input class=\"sk-toggleable__control sk-hidden--visually\" id=\"sk-estimator-id-1\" type=\"checkbox\" checked><label for=\"sk-estimator-id-1\" class=\"sk-toggleable__label fitted sk-toggleable__label-arrow fitted\">&nbsp;&nbsp;NMF<a class=\"sk-estimator-doc-link fitted\" rel=\"noreferrer\" target=\"_blank\" href=\"https://scikit-learn.org/1.4/modules/generated/sklearn.decomposition.NMF.html\">?<span>Documentation for NMF</span></a><span class=\"sk-estimator-doc-link fitted\">i<span>Fitted</span></span></label><div class=\"sk-toggleable__content fitted\"><pre>NMF(n_components=4, random_state=42)</pre></div> </div></div></div></div>"
      ],
      "text/plain": [
       "NMF(n_components=4, random_state=42)"
      ]
     },
     "execution_count": 19,
     "metadata": {},
     "output_type": "execute_result"
    }
   ],
   "source": [
    "from sklearn.decomposition import NMF\n",
    "nmf_model = NMF(n_components=4,random_state=42)\n",
    "\n",
    "nmf_model.fit(tfidf_cuisine)"
   ]
  },
  {
   "cell_type": "code",
   "execution_count": 20,
   "metadata": {},
   "outputs": [
    {
     "data": {
      "text/plain": [
       "4"
      ]
     },
     "execution_count": 20,
     "metadata": {},
     "output_type": "execute_result"
    }
   ],
   "source": [
    "len(nmf_model.components_)"
   ]
  },
  {
   "cell_type": "code",
   "execution_count": 21,
   "metadata": {},
   "outputs": [
    {
     "data": {
      "text/plain": [
       "array([[0.        , 0.        , 0.00052392, ..., 0.05263619, 0.09157284,\n",
       "        0.01300698],\n",
       "       [0.        , 0.        , 0.        , ..., 0.00528964, 0.        ,\n",
       "        0.00054348],\n",
       "       [0.02011361, 0.05657181, 0.        , ..., 0.        , 0.        ,\n",
       "        0.03453028],\n",
       "       [0.01181863, 0.        , 0.01376319, ..., 0.01302647, 0.        ,\n",
       "        0.02194837]])"
      ]
     },
     "execution_count": 21,
     "metadata": {},
     "output_type": "execute_result"
    }
   ],
   "source": [
    "nmf_model.components_"
   ]
  },
  {
   "cell_type": "code",
   "execution_count": 22,
   "metadata": {},
   "outputs": [
    {
     "name": "stdout",
     "output_type": "stream",
     "text": [
      "The top 15 most common words\n",
      "TOPIC #1\n",
      "based, chinese, soy, south, gochujang, oil, cold, served, korea, sauce, noodle, broth, korean, kimchi, noodles, \n",
      "\n",
      "TOPIC #2\n",
      "pechay, leafy, sauce, like, added, vegetable, leaves, chicken, lauya, philippines, beans, fish, ilocano, dish, vegetables, \n",
      "\n",
      "TOPIC #3\n",
      "time, samgyetang, days, dish, beef, radish, pot, galbi, short, korean, ginseng, soup, chicken, ribs, tang, \n",
      "\n",
      "TOPIC #4\n",
      "leaf, flour, glutinous, traditionally, sugar, cakes, cake, cooked, called, meat, banana, coconut, steamed, rice, puto, \n",
      "\n"
     ]
    }
   ],
   "source": [
    "print(\"The top 15 most common words\")\n",
    "for index,topic in enumerate(nmf_model.components_):\n",
    "    print(f'TOPIC #{index+1}')\n",
    "    top_word_indices = topic.argsort()[-15:]\n",
    "    for index in top_word_indices:\n",
    "        print(f\"{tfidf.get_feature_names_out()[index]}\", end=\", \")\n",
    "    print('\\n')"
   ]
  },
  {
   "cell_type": "code",
   "execution_count": 23,
   "metadata": {},
   "outputs": [],
   "source": [
    "topic_results = nmf_model.transform(tfidf_cuisine)"
   ]
  },
  {
   "cell_type": "code",
   "execution_count": 24,
   "metadata": {},
   "outputs": [
    {
     "data": {
      "text/html": [
       "<div>\n",
       "<style scoped>\n",
       "    .dataframe tbody tr th:only-of-type {\n",
       "        vertical-align: middle;\n",
       "    }\n",
       "\n",
       "    .dataframe tbody tr th {\n",
       "        vertical-align: top;\n",
       "    }\n",
       "\n",
       "    .dataframe thead th {\n",
       "        text-align: right;\n",
       "    }\n",
       "</style>\n",
       "<table border=\"1\" class=\"dataframe\">\n",
       "  <thead>\n",
       "    <tr style=\"text-align: right;\">\n",
       "      <th></th>\n",
       "      <th>Cuisine</th>\n",
       "      <th>CuisineGroup</th>\n",
       "    </tr>\n",
       "  </thead>\n",
       "  <tbody>\n",
       "    <tr>\n",
       "      <th>1</th>\n",
       "      <td>Pancit (Tagalog pronunciation: [panˈsɪt] pan-S...</td>\n",
       "      <td>0</td>\n",
       "    </tr>\n",
       "    <tr>\n",
       "      <th>6</th>\n",
       "      <td>Naengmyeon (냉면; 冷麵, in South Korea) or raengmy...</td>\n",
       "      <td>0</td>\n",
       "    </tr>\n",
       "    <tr>\n",
       "      <th>7</th>\n",
       "      <td>Kimchi (; Korean: 김치, romanized: gimchi, IPA: ...</td>\n",
       "      <td>0</td>\n",
       "    </tr>\n",
       "    <tr>\n",
       "      <th>8</th>\n",
       "      <td>Tteokbokki (Korean: 떡볶이), or simmered rice cak...</td>\n",
       "      <td>0</td>\n",
       "    </tr>\n",
       "    <tr>\n",
       "      <th>0</th>\n",
       "      <td>Bulalô (Tagalog: [bʊˈlɐlɔʔ]) is a beef dish fr...</td>\n",
       "      <td>1</td>\n",
       "    </tr>\n",
       "    <tr>\n",
       "      <th>2</th>\n",
       "      <td>Pinakbet (also called pakbet) is an indigenous...</td>\n",
       "      <td>1</td>\n",
       "    </tr>\n",
       "    <tr>\n",
       "      <th>4</th>\n",
       "      <td>Tinola is a Filipino soup usually served as a ...</td>\n",
       "      <td>1</td>\n",
       "    </tr>\n",
       "    <tr>\n",
       "      <th>5</th>\n",
       "      <td>Galbi-tang (Korean: 갈비탕) or short rib soup is ...</td>\n",
       "      <td>2</td>\n",
       "    </tr>\n",
       "    <tr>\n",
       "      <th>9</th>\n",
       "      <td>Samgye-tang (삼계탕; 蔘鷄湯), or ginseng chicken sou...</td>\n",
       "      <td>2</td>\n",
       "    </tr>\n",
       "    <tr>\n",
       "      <th>3</th>\n",
       "      <td>Puto is a Filipino steamed rice cake, traditio...</td>\n",
       "      <td>3</td>\n",
       "    </tr>\n",
       "  </tbody>\n",
       "</table>\n",
       "</div>"
      ],
      "text/plain": [
       "                                             Cuisine  CuisineGroup\n",
       "1  Pancit (Tagalog pronunciation: [panˈsɪt] pan-S...             0\n",
       "6  Naengmyeon (냉면; 冷麵, in South Korea) or raengmy...             0\n",
       "7  Kimchi (; Korean: 김치, romanized: gimchi, IPA: ...             0\n",
       "8  Tteokbokki (Korean: 떡볶이), or simmered rice cak...             0\n",
       "0  Bulalô (Tagalog: [bʊˈlɐlɔʔ]) is a beef dish fr...             1\n",
       "2  Pinakbet (also called pakbet) is an indigenous...             1\n",
       "4  Tinola is a Filipino soup usually served as a ...             1\n",
       "5  Galbi-tang (Korean: 갈비탕) or short rib soup is ...             2\n",
       "9  Samgye-tang (삼계탕; 蔘鷄湯), or ginseng chicken sou...             2\n",
       "3  Puto is a Filipino steamed rice cake, traditio...             3"
      ]
     },
     "execution_count": 24,
     "metadata": {},
     "output_type": "execute_result"
    }
   ],
   "source": [
    "topic_results.argmax(axis=1)\n",
    "df_cuisine['CuisineGroup'] = topic_results.argmax(axis=1)\n",
    "df_cuisine.sort_values(by=['CuisineGroup'])"
   ]
  },
  {
   "cell_type": "code",
   "execution_count": null,
   "metadata": {},
   "outputs": [],
   "source": []
  }
 ],
 "metadata": {
  "kernelspec": {
   "display_name": "Python 3",
   "language": "python",
   "name": "python3"
  },
  "language_info": {
   "codemirror_mode": {
    "name": "ipython",
    "version": 3
   },
   "file_extension": ".py",
   "mimetype": "text/x-python",
   "name": "python",
   "nbconvert_exporter": "python",
   "pygments_lexer": "ipython3",
   "version": "3.10.11"
  }
 },
 "nbformat": 4,
 "nbformat_minor": 2
}
